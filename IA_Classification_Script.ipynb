{
  "nbformat": 4,
  "nbformat_minor": 0,
  "metadata": {
    "colab": {
      "name": "IA_Classification_Script",
      "provenance": [],
      "collapsed_sections": [],
      "include_colab_link": true
    },
    "kernelspec": {
      "name": "python3",
      "display_name": "Python 3"
    }
  },
  "cells": [
    {
      "cell_type": "markdown",
      "metadata": {
        "id": "view-in-github",
        "colab_type": "text"
      },
      "source": [
        "<a href=\"https://colab.research.google.com/github/Remdeht/ia_detector/blob/master/IA_Classification_Script.ipynb\" target=\"_parent\"><img src=\"https://colab.research.google.com/assets/colab-badge.svg\" alt=\"Open In Colab\"/></a>"
      ]
    },
    {
      "cell_type": "markdown",
      "metadata": {
        "id": "e0Wiz1TK2p47",
        "colab_type": "text"
      },
      "source": [
        "# **Irrigated Area Classification in Semi-Arid Regions**\n",
        "\n",
        "This notebook contains an example of how to classify irrigated herbaceous and pernennial tree areas in semi arid regions. It makes use of the Google Earth Engine, for which an account is needed. For more information on the Google Earth Engine and instructions on how to make a an account click [here](https://earthengine.google.com/).  "
      ]
    },
    {
      "cell_type": "markdown",
      "metadata": {
        "id": "llV8JNO0R6Dt",
        "colab_type": "text"
      },
      "source": [
        "First, Import the Github Repository containing the Irrigated Areas Classification package. "
      ]
    },
    {
      "cell_type": "code",
      "metadata": {
        "id": "cN8dc_1fF4Wb",
        "colab_type": "code",
        "colab": {
          "base_uri": "https://localhost:8080/",
          "height": 35
        },
        "outputId": "cae1ba2d-1f77-488a-c291-cfec7290023d"
      },
      "source": [
        "!git clone https://github.com/Remdeht/ia_detector.git ia"
      ],
      "execution_count": null,
      "outputs": [
        {
          "output_type": "stream",
          "text": [
            "fatal: destination path 'ia' already exists and is not an empty directory.\n"
          ],
          "name": "stdout"
        }
      ]
    },
    {
      "cell_type": "code",
      "metadata": {
        "id": "jXekQl42IBCM",
        "colab_type": "code",
        "colab": {
          "base_uri": "https://localhost:8080/",
          "height": 181
        },
        "outputId": "51fccab9-0fdd-4b7e-8af8-0230f48cb718"
      },
      "source": [
        " !pip install monthdelta"
      ],
      "execution_count": null,
      "outputs": [
        {
          "output_type": "stream",
          "text": [
            "Collecting monthdelta\n",
            "  Downloading https://files.pythonhosted.org/packages/d2/82/9043e804fc40e8f96aae7c067244cdf5d8e3eb28748c9d3655e7e0231371/MonthDelta-0.9.1.tar.gz\n",
            "Building wheels for collected packages: monthdelta\n",
            "  Building wheel for monthdelta (setup.py) ... \u001b[?25l\u001b[?25hdone\n",
            "  Created wheel for monthdelta: filename=MonthDelta-0.9.1-cp36-none-any.whl size=3111 sha256=0af59cff345dd5e0de40734091f05b17d4e04eb7a0a7f4c8887023fba0331ee4\n",
            "  Stored in directory: /root/.cache/pip/wheels/5e/e9/68/c0cb0cefe6fdd49ce42a99196b272748d2d823c18c7af612cf\n",
            "Successfully built monthdelta\n",
            "Installing collected packages: monthdelta\n",
            "Successfully installed monthdelta-0.9.1\n"
          ],
          "name": "stdout"
        }
      ]
    },
    {
      "cell_type": "markdown",
      "metadata": {
        "id": "scqnlPd8GAPA",
        "colab_type": "text"
      },
      "source": [
        "Load the required libraries and initialize the GEE. If this is your first tume using the Earth Engine, you need to authenticate first via the ee.Authenticate() call. Instructions on how to authenticate your GEE will appear in the output below. "
      ]
    },
    {
      "cell_type": "code",
      "metadata": {
        "id": "5CJ8mFSbsGq5",
        "colab_type": "code",
        "colab": {
          "base_uri": "https://localhost:8080/",
          "height": 182
        },
        "outputId": "f9d56e9b-9fbc-4666-c087-f6ed9274132d"
      },
      "source": [
        "import ee \n",
        "ee.Authenticate()  # if first time user of the Google Earth Engine on this device, otherwise ee.Initialize() is enough"
      ],
      "execution_count": null,
      "outputs": [
        {
          "output_type": "stream",
          "text": [
            "To authorize access needed by Earth Engine, open the following URL in a web browser and follow the instructions. If the web browser does not start automatically, please manually browse the URL below.\n",
            "\n",
            "    https://accounts.google.com/o/oauth2/auth?client_id=517222506229-vsmmajv00ul0bs7p89v5m89qs8eb9359.apps.googleusercontent.com&scope=https%3A%2F%2Fwww.googleapis.com%2Fauth%2Fearthengine+https%3A%2F%2Fwww.googleapis.com%2Fauth%2Fdevstorage.full_control&redirect_uri=urn%3Aietf%3Awg%3Aoauth%3A2.0%3Aoob&response_type=code&code_challenge=urUTH-906AmT6BtMYA6nlPR-WIvS7ATKYVnqu7cznFA&code_challenge_method=S256\n",
            "\n",
            "The authorization workflow will generate a code, which you should paste in the box below. \n",
            "Enter verification code: 4/0wErdHcvvba8QAWM70VoIDHnxdIwUeWxq52vlgsYBs09ryJ7ASMkQFQ\n",
            "\n",
            "Successfully saved authorization token.\n"
          ],
          "name": "stdout"
        }
      ]
    },
    {
      "cell_type": "code",
      "metadata": {
        "id": "5lu845MmmtS1",
        "colab_type": "code",
        "colab": {}
      },
      "source": [
        "import ee\n",
        "ee.Initialize()\n",
        "\n",
        "import itertools\n",
        "import sys\n",
        "import numpy as np\n",
        "import folium\n",
        "from ia.gee_functions.classification import create_features, create_training_areas, classify_irrigated_areas, \\\n",
        "    join_seasonal_irrigated_areas\n",
        "from ia.gee_functions.constants import GEE_USER_PATH\n",
        "from ia.gee_functions.export import track_task, export_to_drive\n",
        "from ia.gee_functions import visualization\n",
        "from datetime import datetime\n",
        "from ia.gee_functions.validation import calc_area"
      ],
      "execution_count": null,
      "outputs": []
    },
    {
      "cell_type": "markdown",
      "metadata": {
        "id": "GnIb62PHGZ2k",
        "colab_type": "text"
      },
      "source": [
        "# **Area of Interest**\n",
        "\n",
        "Before running the classification you must select an area of interest. You can use your own area, by filling in the the Lat/Long coordinates of the rectangular extent of your choice or use one of the extents available from the list below. If you run the next code block a map will appear that allows you to check the coordinates of a location by clicking on it. \n",
        "\n"
      ]
    },
    {
      "cell_type": "code",
      "metadata": {
        "id": "tXtfFp6F6yge",
        "colab_type": "code",
        "colab": {
          "base_uri": "https://localhost:8080/",
          "height": 863
        },
        "outputId": "951f9828-dc34-4f4b-ee44-22d1fe80626b"
      },
      "source": [
        "map = visualization.create_folium_map(images=None, coords=[20, 0], zoom=8, height='100%')\n",
        "pu = folium.LatLngPopup().add_to(map)\n",
        "map"
      ],
      "execution_count": null,
      "outputs": [
        {
          "output_type": "execute_result",
          "data": {
            "text/html": [
              "<div style=\"width:100%;\"><div style=\"position:relative;width:100%;height:0;padding-bottom:60%;\"><span style=\"color:#565656\">Make this Notebook Trusted to load map: File -> Trust Notebook</span><iframe src=\"about:blank\" style=\"position:absolute;width:100%;height:100%;left:0;top:0;border:none !important;\" data-html=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 onload=\"this.contentDocument.open();this.contentDocument.write(atob(this.getAttribute('data-html')));this.contentDocument.close();\" allowfullscreen webkitallowfullscreen mozallowfullscreen></iframe></div></div>"
            ],
            "text/plain": [
              "<folium.folium.Map at 0x7f9814eab860>"
            ]
          },
          "metadata": {
            "tags": []
          },
          "execution_count": 23
        }
      ]
    },
    {
      "cell_type": "markdown",
      "metadata": {
        "id": "CYwqLGbb7VCS",
        "colab_type": "text"
      },
      "source": [
        "In the dropdown menu, select which area of interest you'd wish to use for the classification. If you'd like define your own extent, select the option 'Custom Rectangular Extent'. You can then insert the maximum and minimum latitude and longitude coordinates which will then be used to create a rectangular polygon. Finally  \n",
        "\n",
        "If you're familiar with the Google Earth Engine, and know how to upload vector layers and load them via their assetId, feel free to use your own vector asset by selecting the 'Other GEE Vector' option and inserting the assetId in the 'aoi_loc' field. "
      ]
    },
    {
      "cell_type": "code",
      "metadata": {
        "id": "wLGSGS7ihAEh",
        "colab_type": "code",
        "cellView": "form",
        "colab": {
          "base_uri": "https://localhost:8080/",
          "height": 863
        },
        "outputId": "2bafaa4f-11b6-40c3-8ebf-7a057840fc3b"
      },
      "source": [
        "#@markdown ---\n",
        "#@title Select your area of interest { run: \"auto\" }\n",
        "area = \"Campo de Cartagena\" #@param [\"Campo de Cartagena\", \"Murcia Region\", \"Segura Watershed\", \"Custom Rectangular Extent\", \"Other GEE Vector\"] { run: \"auto\" }\n",
        "\n",
        "areas = {\n",
        "    'Campo de Cartagena':'cdc',\n",
        "    'Murcia Region':'rdm',\n",
        "    'Segura Watershed':'cds',\n",
        "    'Custom Rectangular Extent':'',\n",
        "    'Other GEE Vector':''\n",
        "}\n",
        "\n",
        "area_of_interest = areas[area]\n",
        "\n",
        "if not area_of_interest == '':\n",
        "  aoi = ee.FeatureCollection(f'users/Postm087/vector/outline/outline_{area_of_interest}')\n",
        "\n",
        "#@markdown ---\n",
        "#@markdown ### *Custom Rectangular Extent*\n",
        "#@markdown ### Fill in maximum and minimum latitude and longitude coordinates of the extent\n",
        "elif area == 'Custom Rectangular Extent':\n",
        "  lat_min = 37.656830  #@param {type:\"number\"}\n",
        "  lat_max = 37.784704  #@param {type:\"number\"}\n",
        "  lng_min = -1.046193 #@param {type:\"number\"}\n",
        "  lng_max = -0.832859 #@param {type:\"number\"}\n",
        "  aoi = ee.FeatureCollection(ee.Feature(ee.Geometry.Polygon([\n",
        "                   [lng_min, lat_max],\n",
        "                   [lng_max, lat_max],\n",
        "                   [lng_max, lat_min],\n",
        "                   [lng_min, lat_min],\n",
        "                   [lng_min, lat_max]\n",
        "  ])))\n",
        "  #@markdown ### Fill in the name of your area, this will be used to name the classification outputs { run: \"auto\" }\n",
        "  area_of_interest = 'csp' #@param {type:\"string\"}\n",
        "#@markdown ---\n",
        "#@markdown ### *Load in your own Vector via its assetId*\n",
        "elif area == 'Other GEE Vector':\n",
        "  aoi_loc = ''#@param {type:\"string\"}\n",
        "  aoi = ee.FeatureCollection(aoi_loc)\n",
        "  area_of_interest = 'csp' #@param {type:\"string\"}\n",
        "\n",
        "\n",
        "aoi_coordinates = aoi.geometry().bounds().getInfo()['coordinates']\n",
        "aoi_centroid = aoi.geometry().bounds().centroid(1).coordinates().getInfo()\n",
        "\n",
        "layer = {\n",
        "    'Area of Interest':aoi.getMapId({'color':'White'})\n",
        "}\n",
        "\n",
        "map = visualization.create_folium_map(layer, coords=[aoi_centroid[1], aoi_centroid[0]], zoom=8, height='100%')\n",
        "map\n"
      ],
      "execution_count": null,
      "outputs": [
        {
          "output_type": "execute_result",
          "data": {
            "text/html": [
              "<div style=\"width:100%;\"><div style=\"position:relative;width:100%;height:0;padding-bottom:60%;\"><span style=\"color:#565656\">Make this Notebook Trusted to load map: File -> Trust Notebook</span><iframe src=\"about:blank\" style=\"position:absolute;width:100%;height:100%;left:0;top:0;border:none !important;\" data-html=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 onload=\"this.contentDocument.open();this.contentDocument.write(atob(this.getAttribute('data-html')));this.contentDocument.close();\" allowfullscreen webkitallowfullscreen mozallowfullscreen></iframe></div></div>"
            ],
            "text/plain": [
              "<folium.folium.Map at 0x7f9814eabb38>"
            ]
          },
          "metadata": {
            "tags": []
          },
          "execution_count": 24
        }
      ]
    },
    {
      "cell_type": "markdown",
      "metadata": {
        "id": "I0SiFDpdGcd9",
        "colab_type": "text"
      },
      "source": [
        "Now that the area for classification has been specified, the next step before classification is to determine the timeperiod for which to perform the classification. The classification i done two times for a period of 1 year, once for the summer season which spans from April until September and once for the winter which spans from October until March. You can specify the timeperiod of your choosing in the datepicker below, but keep in mind to pick a one year period. "
      ]
    },
    {
      "cell_type": "code",
      "metadata": {
        "id": "JUIfNV2Smw2F",
        "colab_type": "code",
        "cellView": "form",
        "colab": {}
      },
      "source": [
        "start_date = \"2014-04-01\" #@param {type:\"date\"}\n",
        "end_date = \"2015-04-01\" #@param {type:\"date\"}\n",
        "\n",
        "\n",
        "start_date_dt = datetime.strptime(start_date, '%Y-%m-%d')\n",
        "end_date_dt = datetime.strptime(end_date, '%Y-%m-%d')\n",
        "year = str(int(round(np.mean([start_date_dt.year, end_date_dt.year]))))[-2:]\n",
        "classification_period = {year:(start_date, end_date)}\n",
        "\n",
        "# Some variables needed for classification but not of much importance for the user.\n",
        "sat = 'landsat'  # Satellite data to use, as of now sentinel has not been tested properly so better not to use it. \n",
        "stats = ['median', 'min', 'max'] # Statistical maps to use for classification.\n",
        "stats_combos = list(itertools.combinations(stats, 3))\n",
        "\n",
        "# Some folders where the data are saved\n",
        "crop_data_folder = f'{GEE_USER_PATH}/ia_classification/raster/data/{area_of_interest}/{sat}/'\n",
        "training_data_folder = f'{GEE_USER_PATH}/ia_classification/raster/training_areas/{area_of_interest}/'\n",
        "results_folder = f'{GEE_USER_PATH}/ia_classification/raster/results/'"
      ],
      "execution_count": null,
      "outputs": []
    },
    {
      "cell_type": "markdown",
      "metadata": {
        "id": "kM0kxQ1hHrh6",
        "colab_type": "text"
      },
      "source": [
        "Now that both the area and the time period for classification are known, the featuer data for classification can be generated from satellite imagery. For both the summer an winter season a collection of pixel statistical maps will be generated based on a selection of spectral indexes. The spectral indexes used for classification are:\n",
        "\n",
        "\n",
        "\n",
        "1.   Normalized Difference Vegetation Index - *NDVI*\n",
        "2.   Normalized Difference Water Content Index - *NDWI*\n",
        "2.   Normalized Difference Water Bodies Index - *NDWI*\n",
        "3.   Water-Adjusted Green Index - *WGI*\n",
        "4.   Green Chlorophile Vegetation Index - *GCVI*\n",
        "5.   Normalized Difference Built Up Index - *NDBI*\n",
        "\n",
        "The generation of the feature data maps can take a while, depending on the size of the area of interest. When the task is done running on the Google Earth Engine Servers, a message will pop up in the output below. \n",
        "\n"
      ]
    },
    {
      "cell_type": "code",
      "metadata": {
        "id": "lxp32Mn-UFwo",
        "colab_type": "code",
        "colab": {
          "base_uri": "https://localhost:8080/",
          "height": 90
        },
        "outputId": "2602788a-5014-4ca5-9608-e242ebfa8b2f"
      },
      "source": [
        "tasks = {}\n",
        "for year in classification_period:\n",
        "  for season in ['winter', 'summer']:\n",
        "    export_feature_task = create_features(\n",
        "        classification_period[year],\n",
        "        aoi,\n",
        "        aoi_name=area_of_interest,\n",
        "        year_string=year,\n",
        "        season=season,\n",
        "        collection=sat\n",
        "        )\n",
        "    tasks[season] = export_feature_task\n",
        "track_task(tasks) # tracks the status of the export task\n",
        "  "
      ],
      "execution_count": null,
      "outputs": [
        {
          "output_type": "stream",
          "text": [
            "asset already exists\n",
            "asset already exists\n",
            "All tasks completed!\n"
          ],
          "name": "stdout"
        },
        {
          "output_type": "execute_result",
          "data": {
            "text/plain": [
              "True"
            ]
          },
          "metadata": {
            "tags": []
          },
          "execution_count": 26
        }
      ]
    },
    {
      "cell_type": "markdown",
      "metadata": {
        "id": "rRuHKeCGGw00",
        "colab_type": "text"
      },
      "source": [
        "Let's have a look at some of the feature data layers. By running  the code block below you'll generate a folium map containing the RGB composites for the summer and the winter seasons, as well as the median NDVI values and the WGI standard deviation values per pixel over the season. The NDVI and WGI values have been visualized using a color palette ranging from red to green.   "
      ]
    },
    {
      "cell_type": "code",
      "metadata": {
        "id": "E0gh8zInGq_V",
        "colab_type": "code",
        "colab": {
          "base_uri": "https://localhost:8080/",
          "height": 863
        },
        "outputId": "d17665ad-97dc-47a4-de80-05b48ccca33b"
      },
      "source": [
        "summer = ee.Image(f\"{crop_data_folder}crop_data_summer_{area_of_interest}_{year}\")\n",
        "winter = ee.Image(f\"{crop_data_folder}crop_data_winter_{area_of_interest}_{year}\")\n",
        "images = {\n",
        "      'Summer Feature Data RGB': summer.getMapId(visualization.vis_params_rgb_ls457(bands=['red', 'green', 'blue'])), \n",
        "      'Winter Feature Data RGB': winter.getMapId(visualization.vis_params_rgb_ls457(bands=['red', 'green', 'blue'])),\n",
        "      'Summer Feature Data NDVI median': summer.getMapId(visualization.vis_params_cp(band=['NDVI_median'], min_val=-1, max_val=1)), \n",
        "      'Winter Feature Data NDVI median': winter.getMapId(visualization.vis_params_cp(band=['NDVI_median'], min_val=-1, max_val=1)), \n",
        "      'Summer Feature Data WGI standard deviation': summer.getMapId(visualization.vis_params_cp(band=['WGI_std'], min_val=0, max_val=1)), \n",
        "      'Winter Feature Data WGI standard deviation': winter.getMapId(visualization.vis_params_cp(band=['WGI_std'], min_val=0, max_val=1)), \n",
        "  }\n",
        "map = visualization.create_folium_map(images, coords=[aoi_centroid[1], aoi_centroid[0]], zoom=10, height='100%')\n",
        "map"
      ],
      "execution_count": null,
      "outputs": [
        {
          "output_type": "execute_result",
          "data": {
            "text/html": [
              "<div style=\"width:100%;\"><div style=\"position:relative;width:100%;height:0;padding-bottom:60%;\"><span style=\"color:#565656\">Make this Notebook Trusted to load map: File -> Trust Notebook</span><iframe src=\"about:blank\" style=\"position:absolute;width:100%;height:100%;left:0;top:0;border:none !important;\" data-html=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 onload=\"this.contentDocument.open();this.contentDocument.write(atob(this.getAttribute('data-html')));this.contentDocument.close();\" allowfullscreen webkitallowfullscreen mozallowfullscreen></iframe></div></div>"
            ],
            "text/plain": [
              "<folium.folium.Map at 0x7f9814f88a90>"
            ]
          },
          "metadata": {
            "tags": []
          },
          "execution_count": 28
        }
      ]
    },
    {
      "cell_type": "markdown",
      "metadata": {
        "id": "Up-_LzOOISDf",
        "colab_type": "text"
      },
      "source": [
        "#**Training Areas**\n",
        "\n",
        "Now that the feature data is generated, the next step in to create training areas for the Random Forest thresholding. To save you the task of manually selecting these areas, a system of automatically selecting training areas for classification has been applied. The system makes use of a priori knowledge of certain land vocer classes to select training sites via thresholding.\n",
        "\n",
        "Training sites for the following land cover classes will be generated: \n",
        "\n",
        "*   Forest\n",
        "*   Scrubs\n",
        "*   Rainfed Crops and Trees\n",
        "*   Greenhouses\n",
        "*   Irrigated Herbaceous Crops\n",
        "*   Irrigated Perennial Trees\n",
        "*   Water Bodies\n",
        "*   Unproductive Areas (Urban/Fallow Lands)\n",
        "\n",
        "By running the code block below the generation of training sites will be started. Again this may take a couple of minutes, a confirmation message will appear when the process is completed."
      ]
    },
    {
      "cell_type": "code",
      "metadata": {
        "id": "4WPEzdfnhagZ",
        "colab_type": "code",
        "colab": {
          "base_uri": "https://localhost:8080/",
          "height": 90
        },
        "outputId": "a21f946b-b70e-4221-a8fe-ef74921f330d"
      },
      "source": [
        "training_tasks = {}\n",
        "for year in classification_period:\n",
        "  for season in ['winter', 'summer']:\n",
        "    export_training_areas_task = create_training_areas(\n",
        "          aoi,\n",
        "          ee.Image(f\"{crop_data_folder}crop_data_{season}_{area_of_interest}_{year}\"),\n",
        "          aoi_name=area_of_interest,\n",
        "          year_string=year,\n",
        "          season=season,\n",
        "          )\n",
        "    training_tasks[season] = export_training_areas_task\n",
        "track_task(training_tasks)  # tracks the export task"
      ],
      "execution_count": null,
      "outputs": [
        {
          "output_type": "stream",
          "text": [
            "Export started for training_areas/csp/training_areas_winter_csp_14\n",
            "Export started for training_areas/csp/training_areas_summer_csp_14\n",
            "Running task: (0 min)\n",
            "Task Completed, runtime: 1 minutes\n"
          ],
          "name": "stdout"
        }
      ]
    },
    {
      "cell_type": "markdown",
      "metadata": {
        "id": "ExE_uSXEIffc",
        "colab_type": "text"
      },
      "source": [
        "If you've reached this point, the generation of training areas should have been completed. Run the code block below to see the results. "
      ]
    },
    {
      "cell_type": "code",
      "metadata": {
        "id": "-Uavvn41Vh4P",
        "colab_type": "code",
        "colab": {
          "base_uri": "https://localhost:8080/",
          "height": 863
        },
        "outputId": "8f2c9968-fa63-48d8-f94a-b1ef20aa3ec8"
      },
      "source": [
        "training_classes = {\n",
        "    0:'Unused',\n",
        "    1:'Forest',\n",
        "    2:'Scrubs',\n",
        "    3:'Rainfed Crops and Trees',\n",
        "    4:'Greenhouses',\n",
        "    5:'Irrigated Herbaceous Crops',\n",
        "    6:'Irrigated Trees',\n",
        "    7:'Water Bodies',\n",
        "    8:'Urban/Fallow lands'\n",
        "}\n",
        "\n",
        "summer_training = ee.Image(f'{training_data_folder}training_areas_summer_{area_of_interest}_{year}')\n",
        "winter_training = ee.Image(f'{training_data_folder}training_areas_winter_{area_of_interest}_{year}')\n",
        "images_training = {\n",
        "      'Summer Feature Training Areas': summer_training.getMapId(visualization.vis_rf_classification(band='training')),\n",
        "      'Winter Feature Training Areas': winter_training.getMapId(visualization.vis_rf_classification(band='training')) \n",
        "  }\n",
        "map = visualization.create_folium_map(images_training, coords=[aoi_centroid[1], aoi_centroid[0]], zoom=10, height='100%')\n",
        "visualization.create_categorical_legend(map, visualization.vis_rf_classification()['palette'], training_classes)\n",
        "map"
      ],
      "execution_count": null,
      "outputs": [
        {
          "output_type": "execute_result",
          "data": {
            "text/html": [
              "<div style=\"width:100%;\"><div style=\"position:relative;width:100%;height:0;padding-bottom:60%;\"><span style=\"color:#565656\">Make this Notebook Trusted to load map: File -> Trust Notebook</span><iframe src=\"about:blank\" style=\"position:absolute;width:100%;height:100%;left:0;top:0;border:none !important;\" data-html=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 onload=\"this.contentDocument.open();this.contentDocument.write(atob(this.getAttribute('data-html')));this.contentDocument.close();\" allowfullscreen webkitallowfullscreen mozallowfullscreen></iframe></div></div>"
            ],
            "text/plain": [
              "<folium.folium.Map at 0x7f9816c80f28>"
            ]
          },
          "metadata": {
            "tags": []
          },
          "execution_count": 15
        }
      ]
    },
    {
      "cell_type": "markdown",
      "metadata": {
        "id": "4nsBPndrIpPr",
        "colab_type": "text"
      },
      "source": [
        "# **Classification**\n",
        "\n",
        "Now that the traininig sites and feature data are generated, we can finally move on to the classification. The classification is performed usin a Random Forest classifier, for which the following parameters can be set: \n",
        "\n",
        "*  The Number of Trees - *no_trees*\n",
        "*  The Number of Variables per Split - *vps*\n",
        "*  The Bagging Fraction - *bf*\n",
        "*  Minimum Number of Training Points per class - *min_tp*\n",
        "*  Maximum Number of Training Points per class - *max_tp*\n",
        "\n",
        "Run the code below to start the classification. As before, this make take some time. Also, the time it takes for classification to complete is influences by the number of trees and training points specified, the lower the number the quicker the classification. \n"
      ]
    },
    {
      "cell_type": "code",
      "metadata": {
        "id": "C_AlNkL_hadR",
        "colab_type": "code",
        "cellView": "form",
        "colab": {
          "base_uri": "https://localhost:8080/",
          "height": 144
        },
        "outputId": "8a6d5e58-1b8d-402e-ffff-60864996fc74"
      },
      "source": [
        "#@markdown ---\n",
        "#@title ### Classification Parameters\n",
        "#@markdown ### Number of Trees\n",
        "no_trees = 150 #@param {type:\"slider\", min:0, max:500, step:10}\n",
        "#@markdown ### Variables per Split\n",
        "vps = 5 #@param {type:\"slider\", min:2, max:10, step:1}\n",
        "#@markdown ### Bagging Fraction\n",
        "bf = 0.65 #@param {type:\"slider\", min:0, max:1, step:0.05}\n",
        "#@markdown ### Minimum Number of Training Points\n",
        "min_tp = 1000 #@param {type:\"slider\", min:100, max:5000, step:100}\n",
        "#@markdown ### Maximum Number of Training Points\n",
        "max_tp = 5000 #@param {type:\"slider\", min:5000, max:75000, step:1000}\n",
        "classification_tasks = {}\n",
        "\n",
        "for year in classification_period:\n",
        "  for season in ['winter', 'summer']:\n",
        "    for combo in stats_combos:\n",
        "      # load the feature data maps\n",
        "      crop_data_image = ee.Image(f\"{crop_data_folder}crop_data_{season}_{area_of_interest}_{year}\")\n",
        "      bands_to_select = ['red', 'green', 'blue', 'nir', 'swir1','.*std.*', 'TWI']\n",
        "      stat_bands = [f'.*{s}.*' for s in list(combo)]\n",
        "      bands_to_select += stat_bands # bands to select for classification\n",
        "      crop_data_image = crop_data_image.select(bands_to_select)\n",
        "      classification_name = \"_\".join(combo)\n",
        "      classification_name += f'_{season}'\n",
        "                  \n",
        "      training_image = ee.Image(\n",
        "      f'{GEE_USER_PATH}/ia_classification/raster/training_areas/{area_of_interest}/training_areas_{season}_{area_of_interest}_{year}')\n",
        "      classification_task = classify_irrigated_areas(\n",
        "      crop_data_image,\n",
        "      training_image,\n",
        "      aoi,\n",
        "      classification_name,\n",
        "      aoi_name=area_of_interest,\n",
        "      year=year,\n",
        "      clf='random_forest',\n",
        "      no_trees=no_trees,\n",
        "      bag_fraction=bf,\n",
        "      vps=vps,\n",
        "      min_tp=min_tp,\n",
        "      max_tp=max_tp\n",
        "      )\n",
        "      classification_tasks[season]=classification_task\n",
        "          \n",
        "track_task(classification_tasks)"
      ],
      "execution_count": null,
      "outputs": [
        {
          "output_type": "stream",
          "text": [
            "Export started for results/random_forest/csp/ia_random_forest_median_min_max_winter_150tr_5vps_65bf_csp_14\n",
            "Export started for results/random_forest/csp/ia_random_forest_median_min_max_summer_150tr_5vps_65bf_csp_14\n",
            "Running task: (0 min)\n",
            "Running task: (1 min)\n",
            "Running task: (2 min)\n",
            "Task Completed, runtime: 3 minutes\n"
          ],
          "name": "stdout"
        },
        {
          "output_type": "execute_result",
          "data": {
            "text/plain": [
              "True"
            ]
          },
          "metadata": {
            "tags": []
          },
          "execution_count": 16
        }
      ]
    },
    {
      "cell_type": "markdown",
      "metadata": {
        "id": "MCPUc3jjJ5JE",
        "colab_type": "text"
      },
      "source": [
        "Now that the classification has been completed, the results can be inspected \n",
        "using a folium map. "
      ]
    },
    {
      "cell_type": "code",
      "metadata": {
        "id": "YT2Ms6cKfzKT",
        "colab_type": "code",
        "colab": {
          "base_uri": "https://localhost:8080/",
          "height": 863
        },
        "outputId": "592816fe-8099-4dc4-9cdc-9b1d019e34ad"
      },
      "source": [
        "summer_clf = ee.Image(f'{results_folder}random_forest/{area_of_interest}/ia_random_forest_median_min_max_summer_{no_trees}tr_{vps}vps_{int(bf*100)}bf_{area_of_interest}_{year}')\n",
        "winter_clf = ee.Image(f'{results_folder}random_forest/{area_of_interest}/ia_random_forest_median_min_max_winter_{no_trees}tr_{vps}vps_{int(bf*100)}bf_{area_of_interest}_{year}')\n",
        "images_clf = {\n",
        "    'Summer RF Classification results': summer_clf.getMapId(visualization.vis_rf_classification()),\n",
        "    'Winter RF Classification results': winter_clf.getMapId(visualization.vis_rf_classification())\n",
        "}\n",
        "\n",
        "map = visualization.create_folium_map(images_clf, coords=[aoi_centroid[1], aoi_centroid[0]], zoom=10, height='100%')\n",
        "map = visualization.create_categorical_legend(map, visualization.vis_rf_classification()['palette'], training_classes)\n",
        "map"
      ],
      "execution_count": null,
      "outputs": [
        {
          "output_type": "execute_result",
          "data": {
            "text/html": [
              "<div style=\"width:100%;\"><div style=\"position:relative;width:100%;height:0;padding-bottom:60%;\"><span style=\"color:#565656\">Make this Notebook Trusted to load map: File -> Trust Notebook</span><iframe src=\"about:blank\" style=\"position:absolute;width:100%;height:100%;left:0;top:0;border:none !important;\" data-html=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 onload=\"this.contentDocument.open();this.contentDocument.write(atob(this.getAttribute('data-html')));this.contentDocument.close();\" allowfullscreen webkitallowfullscreen mozallowfullscreen></iframe></div></div>"
            ],
            "text/plain": [
              "<branca.element.Figure at 0x7f98150ff470>"
            ]
          },
          "metadata": {
            "tags": []
          },
          "execution_count": 17
        }
      ]
    },
    {
      "cell_type": "markdown",
      "metadata": {
        "id": "44S3AnNmKFmp",
        "colab_type": "text"
      },
      "source": [
        "Finally, the last step is to combine the classification results for the summer and the winter season into a single map by running the code block below."
      ]
    },
    {
      "cell_type": "code",
      "metadata": {
        "id": "YZD7MCKEFQqw",
        "colab_type": "code",
        "colab": {
          "base_uri": "https://localhost:8080/",
          "height": 90
        },
        "outputId": "17ce2b2e-9ccd-4ae6-bb81-0e6d4cb8a00c"
      },
      "source": [
        "ia_summer = summer_clf.select('irrigated_area')\n",
        "ia_winter = winter_clf.select('irrigated_area')\n",
        "task = join_seasonal_irrigated_areas(\n",
        "    ia_summer,\n",
        "    ia_winter,\n",
        "    area_of_interest,\n",
        "    year,\n",
        "    aoi_coordinates,\n",
        "    export_method='asset',\n",
        "  )\n",
        "track_task(task)"
      ],
      "execution_count": null,
      "outputs": [
        {
          "output_type": "stream",
          "text": [
            "Export started for results/irrigated_area/csp/irrigated_areas_csp_14\n",
            "Running task: (0 min)\n",
            "Task Completed, runtime: 1 minutes\n"
          ],
          "name": "stdout"
        },
        {
          "output_type": "execute_result",
          "data": {
            "text/plain": [
              "True"
            ]
          },
          "metadata": {
            "tags": []
          },
          "execution_count": 18
        }
      ]
    },
    {
      "cell_type": "markdown",
      "metadata": {
        "id": "1hulSCB_KQfD",
        "colab_type": "text"
      },
      "source": [
        "# **Results**\n",
        "\n",
        "The irrigated areas from both classification maps have been combined, creating a final map depicting the irrigated areas over the whole year. The following classes are assigned, based on which period the area was classified as irrigated. \n",
        "\n",
        "*  Not Irrigated\n",
        "\n",
        "*  Year Round Irrigated Trees\n",
        "*  Year Round Irrigated Crops\n",
        "*  Summer Irrigated Trees\n",
        "*  Summer Irrigated Crops\n",
        "*  Winter Irrigated Trees\n",
        "*  Winter Irrigated Crops\n",
        "*  Uncertain Areas\n",
        "\n",
        "Let's run the code below and take a look at the final result! "
      ]
    },
    {
      "cell_type": "code",
      "metadata": {
        "id": "57nbUXQYp-FU",
        "colab_type": "code",
        "colab": {
          "base_uri": "https://localhost:8080/",
          "height": 863
        },
        "outputId": "05cdecd9-a7f8-4cc7-99a1-2181373d565b"
      },
      "source": [
        "ia_classes = {\n",
        "        0: 'Not Irrigated',\n",
        "        1: 'Year Round Irrigated Trees',\n",
        "        2: 'Year Round Irrigated Crops',\n",
        "        3: 'Summer Irrigated Trees',\n",
        "        4: 'Summer Irrigated Crops',\n",
        "        5: 'Winter Irrigated Trees',\n",
        "        6: 'Winter Irrigated Crops',\n",
        "        7: 'Uncertain Areas',\n",
        "    }\n",
        "\n",
        "\n",
        "ia_year = ee.Image(f'{results_folder}irrigated_area/{area_of_interest}/irrigated_areas_{area_of_interest}_{year}').clip(aoi)\n",
        "\n",
        "images_results = {\n",
        "      'Irrigated Areas Overview': ia_year.getMapId(visualization.vis_irrigated_area_map()),\n",
        "  }\n",
        "map = visualization.create_folium_map(images_results, coords=[aoi_centroid[1], aoi_centroid[0]], zoom=10, height='100%')\n",
        "map = visualization.create_categorical_legend(map, visualization.vis_irrigated_area_map()['palette'], ia_classes)\n",
        "map"
      ],
      "execution_count": null,
      "outputs": [
        {
          "output_type": "execute_result",
          "data": {
            "text/html": [
              "<div style=\"width:100%;\"><div style=\"position:relative;width:100%;height:0;padding-bottom:60%;\"><span style=\"color:#565656\">Make this Notebook Trusted to load map: File -> Trust Notebook</span><iframe src=\"about:blank\" style=\"position:absolute;width:100%;height:100%;left:0;top:0;border:none !important;\" data-html=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 onload=\"this.contentDocument.open();this.contentDocument.write(atob(this.getAttribute('data-html')));this.contentDocument.close();\" allowfullscreen webkitallowfullscreen mozallowfullscreen></iframe></div></div>"
            ],
            "text/plain": [
              "<branca.element.Figure at 0x7f9815007a20>"
            ]
          },
          "metadata": {
            "tags": []
          },
          "execution_count": 19
        }
      ]
    },
    {
      "cell_type": "code",
      "metadata": {
        "id": "023cyLv-jaYB",
        "colab_type": "code",
        "cellView": "form",
        "colab": {
          "base_uri": "https://localhost:8080/",
          "height": 181
        },
        "outputId": "6c285998-bffe-4c15-c6e9-6073129b7805"
      },
      "source": [
        "#@title Export Results to Drive {run:\"auto\"}\n",
        "#@markdown If youd like to export the classification results to your Google drive account, please check the box below. \n",
        "\n",
        "export_results_to_drive = True #@param {type:\"boolean\"}\n",
        "\n",
        "\n",
        "images_to_export = {\n",
        "                    'summer_classification': summer_clf,\n",
        "                    'winter_classification': winter_clf,\n",
        "                    'irrigated_areas': ia_year,\n",
        "                    }\n",
        "                  \n",
        "if export_results_to_drive:\n",
        "  for img in images_to_export:\n",
        "    export_task = export_to_drive(images_to_export[img], 'image', img, aoi_coordinates, 'ia_classification' )\n",
        "  track_task(export_task)\n",
        " \n"
      ],
      "execution_count": null,
      "outputs": [
        {
          "output_type": "stream",
          "text": [
            "Export started for summer_classification\n",
            "Export started for winter_classification\n",
            "Export started for irrigated_areas\n",
            "Running Task (0 min)\n",
            "Running Task (1 min)\n",
            "Running Task (2 min)\n",
            "Running Task (3 min)\n",
            "Running Task (4 min)\n",
            "Task Completed, runtime: 5 minutes\n"
          ],
          "name": "stdout"
        }
      ]
    }
  ]
}