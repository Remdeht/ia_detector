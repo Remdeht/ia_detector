{
  "nbformat": 4,
  "nbformat_minor": 0,
  "metadata": {
    "colab": {
      "name": "IA_Classification_Script",
      "provenance": [],
      "collapsed_sections": [],
      "include_colab_link": true
    },
    "kernelspec": {
      "name": "python3",
      "display_name": "Python 3"
    }
  },
  "cells": [
    {
      "cell_type": "markdown",
      "metadata": {
        "id": "view-in-github",
        "colab_type": "text"
      },
      "source": [
        "<a href=\"https://colab.research.google.com/github/Remdeht/ia_detector/blob/master/IA_Classification_Script.ipynb\" target=\"_parent\"><img src=\"https://colab.research.google.com/assets/colab-badge.svg\" alt=\"Open In Colab\"/></a>"
      ]
    },
    {
      "cell_type": "markdown",
      "metadata": {
        "id": "llV8JNO0R6Dt",
        "colab_type": "text"
      },
      "source": [
        "Import the necessary libraries."
      ]
    },
    {
      "cell_type": "code",
      "metadata": {
        "id": "cN8dc_1fF4Wb",
        "colab_type": "code",
        "outputId": "7a443f2d-c30d-4d48-80e9-fee3a89383cf",
        "colab": {
          "base_uri": "https://localhost:8080/",
          "height": 126
        }
      },
      "source": [
        "!git clone https://github.com/Remdeht/ia_detector.git ia"
      ],
      "execution_count": 2,
      "outputs": [
        {
          "output_type": "stream",
          "text": [
            "Cloning into 'ia'...\n",
            "remote: Enumerating objects: 64, done.\u001b[K\n",
            "remote: Counting objects: 100% (64/64), done.\u001b[K\n",
            "remote: Compressing objects: 100% (43/43), done.\u001b[K\n",
            "remote: Total 64 (delta 25), reused 57 (delta 18), pack-reused 0\u001b[K\n",
            "Unpacking objects: 100% (64/64), done.\n"
          ],
          "name": "stdout"
        }
      ]
    },
    {
      "cell_type": "code",
      "metadata": {
        "id": "sgVBHTFoq-Sq",
        "colab_type": "code",
        "outputId": "460b687d-862e-44cb-9aae-2eb7b59bbd9b",
        "colab": {
          "base_uri": "https://localhost:8080/",
          "height": 255
        }
      },
      "source": [
        "!git pull"
      ],
      "execution_count": 0,
      "outputs": [
        {
          "output_type": "stream",
          "text": [
            "remote: Enumerating objects: 13, done.\u001b[K\n",
            "remote: Counting objects:   7% (1/13)\u001b[K\rremote: Counting objects:  15% (2/13)\u001b[K\rremote: Counting objects:  23% (3/13)\u001b[K\rremote: Counting objects:  30% (4/13)\u001b[K\rremote: Counting objects:  38% (5/13)\u001b[K\rremote: Counting objects:  46% (6/13)\u001b[K\rremote: Counting objects:  53% (7/13)\u001b[K\rremote: Counting objects:  61% (8/13)\u001b[K\rremote: Counting objects:  69% (9/13)\u001b[K\rremote: Counting objects:  76% (10/13)\u001b[K\rremote: Counting objects:  84% (11/13)\u001b[K\rremote: Counting objects:  92% (12/13)\u001b[K\rremote: Counting objects: 100% (13/13)\u001b[K\rremote: Counting objects: 100% (13/13), done.\u001b[K\n",
            "remote: Compressing objects:  50% (1/2)\u001b[K\rremote: Compressing objects: 100% (2/2)\u001b[K\rremote: Compressing objects: 100% (2/2), done.\u001b[K\n",
            "remote: Total 7 (delta 5), reused 7 (delta 5), pack-reused 0\u001b[K\n",
            "Unpacking objects:  14% (1/7)   \rUnpacking objects:  28% (2/7)   \rUnpacking objects:  42% (3/7)   \rUnpacking objects:  57% (4/7)   \rUnpacking objects:  71% (5/7)   \rUnpacking objects:  85% (6/7)   \rUnpacking objects: 100% (7/7)   \rUnpacking objects: 100% (7/7), done.\n",
            "From https://github.com/Remdeht/ia_detector\n",
            "   fd72eae..62a1604  master     -> origin/master\n",
            "Updating fd72eae..62a1604\n",
            "Fast-forward\n",
            " gee_functions/classification.py | 174 \u001b[32m+++++++++++++++++++++\u001b[m\u001b[31m------------\u001b[m\n",
            " gee_functions/export.py         |  50 \u001b[32m++++++\u001b[m\u001b[31m----\u001b[m\n",
            " gee_functions/validation.py     |  16 \u001b[32m+++\u001b[m\u001b[31m-\u001b[m\n",
            " gee_functions/visualization.py  | 208 \u001b[32m++++++++++++++++++++\u001b[m\u001b[31m--------------------\u001b[m\n",
            " 4 files changed, 260 insertions(+), 188 deletions(-)\n"
          ],
          "name": "stdout"
        }
      ]
    },
    {
      "cell_type": "code",
      "metadata": {
        "id": "jXekQl42IBCM",
        "colab_type": "code",
        "outputId": "f82818f6-08db-46b9-9f37-1210a53d637d",
        "colab": {
          "base_uri": "https://localhost:8080/",
          "height": 181
        }
      },
      "source": [
        " !pip install monthdelta"
      ],
      "execution_count": 3,
      "outputs": [
        {
          "output_type": "stream",
          "text": [
            "Collecting monthdelta\n",
            "  Downloading https://files.pythonhosted.org/packages/d2/82/9043e804fc40e8f96aae7c067244cdf5d8e3eb28748c9d3655e7e0231371/MonthDelta-0.9.1.tar.gz\n",
            "Building wheels for collected packages: monthdelta\n",
            "  Building wheel for monthdelta (setup.py) ... \u001b[?25l\u001b[?25hdone\n",
            "  Created wheel for monthdelta: filename=MonthDelta-0.9.1-cp36-none-any.whl size=3111 sha256=b645673f878510d8f9e4585d907052daa31f0896cb8c7fe607a33f1a71892dc4\n",
            "  Stored in directory: /root/.cache/pip/wheels/5e/e9/68/c0cb0cefe6fdd49ce42a99196b272748d2d823c18c7af612cf\n",
            "Successfully built monthdelta\n",
            "Installing collected packages: monthdelta\n",
            "Successfully installed monthdelta-0.9.1\n"
          ],
          "name": "stdout"
        }
      ]
    },
    {
      "cell_type": "code",
      "metadata": {
        "id": "ZR83v73HRq2I",
        "colab_type": "code",
        "colab": {}
      },
      "source": [
        "import ee\n",
        "import itertools\n",
        "import sys\n",
        "import numpy as np\n",
        "from ia.gee_functions.classification import create_features, create_training_areas, classify_irrigated_areas, \\\n",
        "    join_seasonal_irrigated_areas\n",
        "from ia.gee_functions.constants import GEE_USER_PATH\n",
        "from ia.gee_functions.export import track_task\n",
        "from ia.gee_functions import visualization\n",
        "from datetime import datetime"
      ],
      "execution_count": 0,
      "outputs": []
    },
    {
      "cell_type": "markdown",
      "metadata": {
        "id": "scqnlPd8GAPA",
        "colab_type": "text"
      },
      "source": [
        "Initialize the GEE, if never used before authentication needs be done first using ee.Authenticate()."
      ]
    },
    {
      "cell_type": "code",
      "metadata": {
        "id": "5lu845MmmtS1",
        "colab_type": "code",
        "colab": {}
      },
      "source": [
        "try:\n",
        "  ee.Initialize()\n",
        "except FileNotFoundError:\n",
        "  ee.Authenticate()\n",
        "  ee.Initialize()"
      ],
      "execution_count": 0,
      "outputs": []
    },
    {
      "cell_type": "code",
      "metadata": {
        "id": "Hs-tbCt7v3TL",
        "colab_type": "code",
        "colab": {}
      },
      "source": [
        "GEE_USER_PATH = 'users/remdeht'"
      ],
      "execution_count": 0,
      "outputs": []
    },
    {
      "cell_type": "markdown",
      "metadata": {
        "id": "GnIb62PHGZ2k",
        "colab_type": "text"
      },
      "source": [
        "Specify the area of interest name, this name will be used during the naming of the intermediary and final result.\n",
        "\n"
      ]
    },
    {
      "cell_type": "code",
      "metadata": {
        "id": "wLGSGS7ihAEh",
        "colab_type": "code",
        "colab": {}
      },
      "source": [
        "areas = {\n",
        "    'Campo de Cartagena':'cdc',\n",
        "    'Murcia Region':'rdm',\n",
        "    'Segura Watershed':'cds',\n",
        "    'Custom Rectangular Extent':'',\n",
        "    'Other GEE Vector':''\n",
        "}"
      ],
      "execution_count": 0,
      "outputs": []
    },
    {
      "cell_type": "code",
      "metadata": {
        "id": "iIG9_2aYiXKf",
        "colab_type": "code",
        "colab": {}
      },
      "source": [
        "area = \"Campo de Cartagena\" #@param [\"Campo de Cartagena\", \"Murcia Region\", \"Segura Watershed\", \"Custom Rectangular Extent\", \"Other GEE Vector\"]"
      ],
      "execution_count": 0,
      "outputs": []
    },
    {
      "cell_type": "code",
      "metadata": {
        "id": "Ly-OoYeIgs3t",
        "colab_type": "code",
        "colab": {}
      },
      "source": [
        "area_of_interest = areas[area]"
      ],
      "execution_count": 0,
      "outputs": []
    },
    {
      "cell_type": "code",
      "metadata": {
        "id": "YOVGA27i8O5E",
        "colab_type": "code",
        "colab": {}
      },
      "source": [
        "if not area_of_interest == '':\n",
        "  aoi = ee.FeatureCollection(f'users/Postm087/vector/outline/outline_{area_of_interest}')\n",
        "else:\n",
        "  aoi_name = 'custom_polygon' #@param {type:\"string\"}\n",
        "  area_of_interest = 'csp' #@param {type:\"string\"}\n",
        "  lat_min = 37.656830  #@param {type:\"number\"}\n",
        "  lat_max = 37.784704  #@param {type:\"number\"}\n",
        "  lng_min = -1.046193 #@param {type:\"number\"}\n",
        "  lng_max = -0.832859 #@param {type:\"number\"}\n",
        "  aoi = ee.FeatureCollection(ee.Feature(ee.Geometry.Polygon([\n",
        "                   [lng_min, lat_max],\n",
        "                   [lng_max, lat_max],\n",
        "                   [lng_max, lat_min],\n",
        "                   [lng_min, lat_min],\n",
        "                   [lng_min, lat_max]\n",
        "  ])))\n",
        "\n",
        "aoi_coordinates = aoi.geometry().bounds().getInfo()['coordinates']\n",
        "aoi_centroid = aoi.geometry().bounds().centroid(1).coordinates().getInfo()"
      ],
      "execution_count": 0,
      "outputs": []
    },
    {
      "cell_type": "code",
      "metadata": {
        "id": "fj1-J9hI5CZR",
        "colab_type": "code",
        "outputId": "43aaaa63-143e-4744-d27c-3e1e302a0fb5",
        "colab": {
          "base_uri": "https://localhost:8080/",
          "height": 863
        }
      },
      "source": [
        "layer = {\n",
        "    'Area of Interest':aoi.getMapId({'color':'White'})\n",
        "}\n",
        "\n",
        "map = visualization.create_folium_map(layer, coords=[aoi_centroid[1], aoi_centroid[0]], zoom=10, height='100%')\n",
        "map"
      ],
      "execution_count": 14,
      "outputs": [
        {
          "output_type": "execute_result",
          "data": {
            "text/html": [
              "<div style=\"width:100%;\"><div style=\"position:relative;width:100%;height:0;padding-bottom:60%;\"><span style=\"color:#565656\">Make this Notebook Trusted to load map: File -> Trust Notebook</span><iframe src=\"about:blank\" style=\"position:absolute;width:100%;height:100%;left:0;top:0;border:none !important;\" data-html=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 onload=\"this.contentDocument.open();this.contentDocument.write(atob(this.getAttribute('data-html')));this.contentDocument.close();\" allowfullscreen webkitallowfullscreen mozallowfullscreen></iframe></div></div>"
            ],
            "text/plain": [
              "<folium.folium.Map at 0x7f2809a405c0>"
            ]
          },
          "metadata": {
            "tags": []
          },
          "execution_count": 14
        }
      ]
    },
    {
      "cell_type": "markdown",
      "metadata": {
        "id": "I0SiFDpdGcd9",
        "colab_type": "text"
      },
      "source": [
        "Select the timeperiod for which the classification will be performed. Time period must be 1 or 2 years."
      ]
    },
    {
      "cell_type": "code",
      "metadata": {
        "id": "JUIfNV2Smw2F",
        "colab_type": "code",
        "cellView": "both",
        "colab": {}
      },
      "source": [
        "start_date = \"2019-01-01\" #@param {type:\"date\"}\n",
        "end_date = \"2020-01-01\" #@param {type:\"date\"}\n",
        "\n",
        "start_date_dt = datetime.strptime(start_date, '%Y-%m-%d')\n",
        "end_date_dt = datetime.strptime(end_date, '%Y-%m-%d')\n",
        "year = str(int(round(np.mean([start_date_dt.year, end_date_dt.year]))))[-2:]"
      ],
      "execution_count": 0,
      "outputs": []
    },
    {
      "cell_type": "code",
      "metadata": {
        "id": "OwOG1TXpkVky",
        "colab_type": "code",
        "colab": {}
      },
      "source": [
        "classification_period = {year:(start_date, end_date)}"
      ],
      "execution_count": 0,
      "outputs": []
    },
    {
      "cell_type": "markdown",
      "metadata": {
        "id": "fIBS2hqZGpoj",
        "colab_type": "text"
      },
      "source": [
        "Next up, the outline for the area of interest is selected from a GEE featurecollection. "
      ]
    },
    {
      "cell_type": "markdown",
      "metadata": {
        "id": "M_uME5h-HLcn",
        "colab_type": "text"
      },
      "source": [
        "Statistical feature maps maps to be generated for classification"
      ]
    },
    {
      "cell_type": "code",
      "metadata": {
        "id": "E8_QLQ9RT5Z9",
        "colab_type": "code",
        "colab": {}
      },
      "source": [
        "stats = ['median', 'min', 'max']\n",
        "stats_combos = list(itertools.combinations(stats, 3))"
      ],
      "execution_count": 0,
      "outputs": []
    },
    {
      "cell_type": "markdown",
      "metadata": {
        "id": "hjwlJa8GHXzR",
        "colab_type": "text"
      },
      "source": [
        "The folder locations, for the storage and loading of data"
      ]
    },
    {
      "cell_type": "code",
      "metadata": {
        "id": "y-9L-0iqUicm",
        "colab_type": "code",
        "colab": {}
      },
      "source": [
        "crop_data_folder = f'{GEE_USER_PATH}/raster/crop_data/{area_of_interest}/'\n",
        "training_data_folder = f'{GEE_USER_PATH}/raster/training_areas/{area_of_interest}/'\n",
        "results_folder = f'{GEE_USER_PATH}/raster/results/'"
      ],
      "execution_count": 0,
      "outputs": []
    },
    {
      "cell_type": "markdown",
      "metadata": {
        "id": "kM0kxQ1hHrh6",
        "colab_type": "text"
      },
      "source": [
        "Next, the feature data for classification is generated.  "
      ]
    },
    {
      "cell_type": "code",
      "metadata": {
        "id": "lxp32Mn-UFwo",
        "colab_type": "code",
        "outputId": "c4486c7c-6147-44f2-c0b8-dad1139cd4b7",
        "colab": {
          "base_uri": "https://localhost:8080/",
          "height": 53
        }
      },
      "source": [
        "for year in classification_period:\n",
        "  for season in ['winter', 'summer']:\n",
        "    export_feature_task = create_features(\n",
        "        classification_period[year],\n",
        "        aoi,\n",
        "        aoi_name=area_of_interest,\n",
        "        year_string=year,\n",
        "        season=season,\n",
        "        user_path=GEE_USER_PATH\n",
        "        ) "
      ],
      "execution_count": 18,
      "outputs": [
        {
          "output_type": "stream",
          "text": [
            "Export started for crop_data/cdc/crop_data_winter_min_median_max_cdc_20\n",
            "Export started for crop_data/cdc/crop_data_summer_min_median_max_cdc_20\n"
          ],
          "name": "stdout"
        }
      ]
    },
    {
      "cell_type": "code",
      "metadata": {
        "id": "EF8EiTUkeyAC",
        "colab_type": "code",
        "outputId": "8ceff4fd-f5b5-4511-942e-9368fff4111e",
        "colab": {
          "base_uri": "https://localhost:8080/",
          "height": 181
        }
      },
      "source": [
        "track_task(export_feature_task)  # tracks the status of the export task"
      ],
      "execution_count": 0,
      "outputs": [
        {
          "output_type": "stream",
          "text": [
            "Running Task (0 min)\n",
            "Running Task (1 min)\n",
            "Running Task (2 min)\n",
            "Running Task (3 min)\n",
            "Running Task (4 min)\n",
            "Running Task (5 min)\n",
            "Running Task (6 min)\n",
            "Running Task (7 min)\n",
            "Running Task (8 min)\n"
          ],
          "name": "stdout"
        }
      ]
    },
    {
      "cell_type": "markdown",
      "metadata": {
        "id": "qM-knx0rH_JH",
        "colab_type": "text"
      },
      "source": [
        "The feature data maps are generated, let's perform a quick check and load the RGB composites into a folium map. "
      ]
    },
    {
      "cell_type": "code",
      "metadata": {
        "id": "rkStQvP6Jux4",
        "colab_type": "code",
        "outputId": "2b30b17a-a5b6-4423-b9cd-8874aebb3bb6",
        "colab": {
          "base_uri": "https://localhost:8080/",
          "height": 863
        }
      },
      "source": [
        "\n",
        "summer = ee.Image(f\"{crop_data_folder}crop_data_summer_min_median_max_{area_of_interest}_{year}\")\n",
        "winter = ee.Image(f\"{crop_data_folder}crop_data_winter_min_median_max_{area_of_interest}_{year}\")\n",
        "images = {\n",
        "      'Summer Feature Data RGB': summer.getMapId(visualization.vis_params_rgb_ls457(bands=['red', 'green', 'blue'])), \n",
        "      'Winter Feature Data RGB': winter.getMapId(visualization.vis_params_rgb_ls457(bands=['red', 'green', 'blue'])) \n",
        "}\n",
        "map = visualization.create_folium_map(images, coords=[aoi_centroid[1], aoi_centroid[0]], zoom=10, height='100%')\n",
        "map"
      ],
      "execution_count": 0,
      "outputs": [
        {
          "output_type": "execute_result",
          "data": {
            "text/html": [
              "<div style=\"width:100%;\"><div style=\"position:relative;width:100%;height:0;padding-bottom:60%;\"><span style=\"color:#565656\">Make this Notebook Trusted to load map: File -> Trust Notebook</span><iframe src=\"about:blank\" style=\"position:absolute;width:100%;height:100%;left:0;top:0;border:none !important;\" data-html=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 onload=\"this.contentDocument.open();this.contentDocument.write(atob(this.getAttribute('data-html')));this.contentDocument.close();\" allowfullscreen webkitallowfullscreen mozallowfullscreen></iframe></div></div>"
            ],
            "text/plain": [
              "<folium.folium.Map at 0x7f83cbeb8fd0>"
            ]
          },
          "metadata": {
            "tags": []
          },
          "execution_count": 19
        }
      ]
    },
    {
      "cell_type": "markdown",
      "metadata": {
        "id": "Up-_LzOOISDf",
        "colab_type": "text"
      },
      "source": [
        "Now that the feature data is generated and exported to the GEE training areas can be selected via thresholding. "
      ]
    },
    {
      "cell_type": "code",
      "metadata": {
        "id": "4WPEzdfnhagZ",
        "colab_type": "code",
        "outputId": "895ca0fe-7de4-4353-87ed-7bfd28131124",
        "colab": {
          "base_uri": "https://localhost:8080/",
          "height": 53
        }
      },
      "source": [
        "for year in classification_period:\n",
        "  for season in ['winter', 'summer']:\n",
        "    export_training_areas_task = create_training_areas(\n",
        "          aoi,\n",
        "          ee.Image(f\"{crop_data_folder}crop_data_{season}_min_median_max_{area_of_interest}_{year}\"),\n",
        "          aoi_name=area_of_interest,\n",
        "          year_string=year,\n",
        "          season=season,\n",
        "          user_path=GEE_USER_PATH\n",
        "          )"
      ],
      "execution_count": 0,
      "outputs": [
        {
          "output_type": "stream",
          "text": [
            "Export task started for year: csp 19.\n",
            "Export task started for year: csp 19.\n"
          ],
          "name": "stdout"
        }
      ]
    },
    {
      "cell_type": "code",
      "metadata": {
        "id": "3SNkaxUfikOx",
        "colab_type": "code",
        "outputId": "4f553c66-3833-4c58-a0dc-2bb8695a6ff4",
        "colab": {
          "base_uri": "https://localhost:8080/",
          "height": 90
        }
      },
      "source": [
        "track_task(export_training_areas_task)  # tracks the export task"
      ],
      "execution_count": 0,
      "outputs": [
        {
          "output_type": "stream",
          "text": [
            " Running Task (0 min)\n",
            " Running Task (1 min)\n",
            " Task Completed, runtime: 2\n"
          ],
          "name": "stdout"
        },
        {
          "output_type": "execute_result",
          "data": {
            "text/plain": [
              "True"
            ]
          },
          "metadata": {
            "tags": []
          },
          "execution_count": 22
        }
      ]
    },
    {
      "cell_type": "markdown",
      "metadata": {
        "id": "ExE_uSXEIffc",
        "colab_type": "text"
      },
      "source": [
        "Let's show the training areas in a folium map, to check the result. "
      ]
    },
    {
      "cell_type": "code",
      "metadata": {
        "id": "-Uavvn41Vh4P",
        "colab_type": "code",
        "outputId": "7a33462c-b850-4fb2-b09f-c682f890a50c",
        "colab": {
          "base_uri": "https://localhost:8080/",
          "height": 863
        }
      },
      "source": [
        "training_classes = {\n",
        "    0:'Unused',\n",
        "    1:'Forest',\n",
        "    2:'Scrubs',\n",
        "    3:'Rainfed Crops and Trees',\n",
        "    4:'Greenhouses',\n",
        "    5:'Irrigated Herbaceous Crops',\n",
        "    6:'Irrigated Trees',\n",
        "    7: 'Water Bodies',\n",
        "}\n",
        "\n",
        "summer_training = ee.Image(f'{training_data_folder}training_areas_summer_{area_of_interest}_{year}')\n",
        "winter_training = ee.Image(f'{training_data_folder}training_areas_winter_{area_of_interest}_{year}')\n",
        "images_training = {\n",
        "      'Summer Feature Training Areas': summer_training.getMapId(visualization.vis_rf_classification(band='training')),\n",
        "      'Winter Feature Training Areas': winter_training.getMapId(visualization.vis_rf_classification(band='training')) \n",
        "  }\n",
        "map = visualization.create_folium_map(images_training, coords=[aoi_centroid[1], aoi_centroid[0]], zoom=10, height='100%')\n",
        "visualization.create_categorical_legend(map, visualization.vis_rf_classification()['palette'][:7] + ['4837BC'], training_classes)\n",
        "map"
      ],
      "execution_count": 0,
      "outputs": [
        {
          "output_type": "execute_result",
          "data": {
            "text/html": [
              "<div style=\"width:100%;\"><div style=\"position:relative;width:100%;height:0;padding-bottom:60%;\"><span style=\"color:#565656\">Make this Notebook Trusted to load map: File -> Trust Notebook</span><iframe src=\"about:blank\" style=\"position:absolute;width:100%;height:100%;left:0;top:0;border:none !important;\" data-html=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 onload=\"this.contentDocument.open();this.contentDocument.write(atob(this.getAttribute('data-html')));this.contentDocument.close();\" allowfullscreen webkitallowfullscreen mozallowfullscreen></iframe></div></div>"
            ],
            "text/plain": [
              "<folium.folium.Map at 0x7f83cb8c4278>"
            ]
          },
          "metadata": {
            "tags": []
          },
          "execution_count": 23
        }
      ]
    },
    {
      "cell_type": "markdown",
      "metadata": {
        "id": "4nsBPndrIpPr",
        "colab_type": "text"
      },
      "source": [
        "Now that the feature data and training area maps are complete the random forest classification can be done.  "
      ]
    },
    {
      "cell_type": "code",
      "metadata": {
        "id": "C_AlNkL_hadR",
        "colab_type": "code",
        "outputId": "ad1e0fba-6945-4c67-dc00-d4387099327a",
        "colab": {
          "base_uri": "https://localhost:8080/",
          "height": 199
        }
      },
      "source": [
        "no_trees = 350  # Number of trees for the RF classifier to run\n",
        "vps = 2  # Variables per split\n",
        "bf = .6  # bagging factor\n",
        "\n",
        "for year in classification_period:\n",
        "  for season in ['winter', 'summer']:\n",
        "    for combo in stats_combos:\n",
        "      # load the feature data maps      \n",
        "        crop_data_image = ee.Image(f\"{crop_data_folder}crop_data_{season}_min_median_max_{area_of_interest}_{year}\")\n",
        "\n",
        "        bands_to_select = ['red', 'green', 'blue', 'thermal', 'swir','.*std.*', 'TWI']\n",
        "        stat_bands = [f'.*{s}.*' for s in list(combo)]\n",
        "        bands_to_select += stat_bands # bands to select for classification\n",
        "\n",
        "        crop_data_image = crop_data_image.select(bands_to_select)\n",
        "        classification_name = \"_\".join(combo)\n",
        "\n",
        "        classification_name += f'_{season}'\n",
        "        \n",
        "        training_image = ee.Image(\n",
        "            f'{GEE_USER_PATH}/raster/training_areas/{area_of_interest}/training_areas_{season}_{area_of_interest}_{year}')\n",
        "\n",
        "        classification_task = classify_irrigated_areas(\n",
        "            crop_data_image,\n",
        "            training_image,\n",
        "            aoi,\n",
        "            classification_name,\n",
        "            aoi_name=area_of_interest,\n",
        "            year=year,\n",
        "            user_path=GEE_USER_PATH,\n",
        "            clf='random_forest',\n",
        "            no_trees=no_trees,\n",
        "            bag_fraction=bf,\n",
        "            vps=vps\n",
        "            )"
      ],
      "execution_count": 0,
      "outputs": [
        {
          "output_type": "stream",
          "text": [
            "Export started. AOI: csp.\n",
            "Year: 19.\n",
            "Classification algorithm: random_forest.\n",
            "Features used median_min_max_winter.\n",
            "\n",
            "Export started. AOI: csp.\n",
            "Year: 19.\n",
            "Classification algorithm: random_forest.\n",
            "Features used median_min_max_summer.\n",
            "\n"
          ],
          "name": "stdout"
        }
      ]
    },
    {
      "cell_type": "code",
      "metadata": {
        "id": "xjryS_dcqgsr",
        "colab_type": "code",
        "outputId": "d5658d5d-58e5-487d-c555-a33fdbd415d0",
        "colab": {
          "base_uri": "https://localhost:8080/",
          "height": 126
        }
      },
      "source": [
        "track_task(classification_task)"
      ],
      "execution_count": 0,
      "outputs": [
        {
          "output_type": "stream",
          "text": [
            " Running Task (0 min)\n",
            " Running Task (1 min)\n",
            " Running Task (2 min)\n",
            " Running Task (3 min)\n",
            " Task Completed, runtime: 4\n"
          ],
          "name": "stdout"
        },
        {
          "output_type": "execute_result",
          "data": {
            "text/plain": [
              "True"
            ]
          },
          "metadata": {
            "tags": []
          },
          "execution_count": 25
        }
      ]
    },
    {
      "cell_type": "markdown",
      "metadata": {
        "id": "MCPUc3jjJ5JE",
        "colab_type": "text"
      },
      "source": [
        "Now that the classification has been completed, the results can be inspected again using a folium map. "
      ]
    },
    {
      "cell_type": "code",
      "metadata": {
        "id": "YT2Ms6cKfzKT",
        "colab_type": "code",
        "outputId": "53685669-82b4-4f5d-a266-aaba8c9d2329",
        "colab": {
          "base_uri": "https://localhost:8080/",
          "height": 863
        }
      },
      "source": [
        "\n",
        "summer_clf = ee.Image(f'{results_folder}random_forest/{area_of_interest}/ia_random_forest_median_min_max_summer_{no_trees}tr_{vps}vps_{int(bf*100)}bf_{area_of_interest}_{year}')\n",
        "winter_clf = ee.Image(f'{results_folder}random_forest/{area_of_interest}/ia_random_forest_median_min_max_winter_{no_trees}tr_{vps}vps_{int(bf*100)}bf_{area_of_interest}_{year}')\n",
        "images_clf = {\n",
        "    'Summer RF Classification results': summer_clf.getMapId(visualization.vis_rf_classification()),\n",
        "    'Winter RF Classification results': winter_clf.getMapId(visualization.vis_rf_classification())\n",
        "}\n",
        "\n",
        "visualization.create_folium_map(images_clf, coords=[aoi_centroid[1], aoi_centroid[0]], zoom=10, height='100%') "
      ],
      "execution_count": 0,
      "outputs": [
        {
          "output_type": "execute_result",
          "data": {
            "text/html": [
              "<div style=\"width:100%;\"><div style=\"position:relative;width:100%;height:0;padding-bottom:60%;\"><span style=\"color:#565656\">Make this Notebook Trusted to load map: File -> Trust Notebook</span><iframe src=\"about:blank\" style=\"position:absolute;width:100%;height:100%;left:0;top:0;border:none !important;\" data-html=PCFET0NUWVBFIGh0bWw+CjxoZWFkPiAgICAKICAgIDxtZXRhIGh0dHAtZXF1aXY9ImNvbnRlbnQtdHlwZSIgY29udGVudD0idGV4dC9odG1sOyBjaGFyc2V0PVVURi04IiAvPgogICAgPHNjcmlwdD5MX1BSRUZFUl9DQU5WQVM9ZmFsc2U7IExfTk9fVE9VQ0g9ZmFsc2U7IExfRElTQUJMRV8zRD1mYWxzZTs8L3NjcmlwdD4KICAgIDxzY3JpcHQgc3JjPSJodHRwczovL2Nkbi5qc2RlbGl2ci5uZXQvbnBtL2xlYWZsZXRAMS40LjAvZGlzdC9sZWFmbGV0LmpzIj48L3NjcmlwdD4KICAgIDxzY3JpcHQgc3JjPSJodHRwczovL2NvZGUuanF1ZXJ5LmNvbS9qcXVlcnktMS4xMi40Lm1pbi5qcyI+PC9zY3JpcHQ+CiAgICA8c2NyaXB0IHNyYz0iaHR0cHM6Ly9tYXhjZG4uYm9vdHN0cmFwY2RuLmNvbS9ib290c3RyYXAvMy4yLjAvanMvYm9vdHN0cmFwLm1pbi5qcyI+PC9zY3JpcHQ+CiAgICA8c2NyaXB0IHNyYz0iaHR0cHM6Ly9jZG5qcy5jbG91ZGZsYXJlLmNvbS9hamF4L2xpYnMvTGVhZmxldC5hd2Vzb21lLW1hcmtlcnMvMi4wLjIvbGVhZmxldC5hd2Vzb21lLW1hcmtlcnMuanMiPjwvc2NyaXB0PgogICAgPGxpbmsgcmVsPSJzdHlsZXNoZWV0IiBocmVmPSJodHRwczovL2Nkbi5qc2RlbGl2ci5uZXQvbnBtL2xlYWZsZXRAMS40LjAvZGlzdC9sZWFmbGV0LmNzcyIvPgogICAgPGxpbmsgcmVsPSJzdHlsZXNoZWV0IiBocmVmPSJodHRwczovL21heGNkbi5ib290c3RyYXBjZG4uY29tL2Jvb3RzdHJhcC8zLjIuMC9jc3MvYm9vdHN0cmFwLm1pbi5jc3MiLz4KICAgIDxsaW5rIHJlbD0ic3R5bGVzaGVldCIgaHJlZj0iaHR0cHM6Ly9tYXhjZG4uYm9vdHN0cmFwY2RuLmNvbS9ib290c3RyYXAvMy4yLjAvY3NzL2Jvb3RzdHJhcC10aGVtZS5taW4uY3NzIi8+CiAgICA8bGluayByZWw9InN0eWxlc2hlZXQiIGhyZWY9Imh0dHBzOi8vbWF4Y2RuLmJvb3RzdHJhcGNkbi5jb20vZm9udC1hd2Vzb21lLzQuNi4zL2Nzcy9mb250LWF3ZXNvbWUubWluLmNzcyIvPgogICAgPGxpbmsgcmVsPSJzdHlsZXNoZWV0IiBocmVmPSJodHRwczovL2NkbmpzLmNsb3VkZmxhcmUuY29tL2FqYXgvbGlicy9MZWFmbGV0LmF3ZXNvbWUtbWFya2Vycy8yLjAuMi9sZWFmbGV0LmF3ZXNvbWUtbWFya2Vycy5jc3MiLz4KICAgIDxsaW5rIHJlbD0ic3R5bGVzaGVldCIgaHJlZj0iaHR0cHM6Ly9yYXdjZG4uZ2l0aGFjay5jb20vcHl0aG9uLXZpc3VhbGl6YXRpb24vZm9saXVtL21hc3Rlci9mb2xpdW0vdGVtcGxhdGVzL2xlYWZsZXQuYXdlc29tZS5yb3RhdGUuY3NzIi8+CiAgICA8c3R5bGU+aHRtbCwgYm9keSB7d2lkdGg6IDEwMCU7aGVpZ2h0OiAxMDAlO21hcmdpbjogMDtwYWRkaW5nOiAwO308L3N0eWxlPgogICAgPHN0eWxlPiNtYXAge3Bvc2l0aW9uOmFic29sdXRlO3RvcDowO2JvdHRvbTowO3JpZ2h0OjA7bGVmdDowO308L3N0eWxlPgogICAgCiAgICA8bWV0YSBuYW1lPSJ2aWV3cG9ydCIgY29udGVudD0id2lkdGg9ZGV2aWNlLXdpZHRoLAogICAgICAgIGluaXRpYWwtc2NhbGU9MS4wLCBtYXhpbXVtLXNjYWxlPTEuMCwgdXNlci1zY2FsYWJsZT1ubyIgLz4KICAgIDxzdHlsZT4jbWFwX2ZjZTlkMTQ0ZTAyNTQxNWJhMGFkYTc1MzY0MDdhNjBkIHsKICAgICAgICBwb3NpdGlvbjogcmVsYXRpdmU7CiAgICAgICAgd2lkdGg6IDEwMC4wJTsKICAgICAgICBoZWlnaHQ6IDEwMC4wJTsKICAgICAgICBsZWZ0OiAwLjAlOwogICAgICAgIHRvcDogMC4wJTsKICAgICAgICB9CiAgICA8L3N0eWxlPgo8L2hlYWQ+Cjxib2R5PiAgICAKICAgIAogICAgPGRpdiBjbGFzcz0iZm9saXVtLW1hcCIgaWQ9Im1hcF9mY2U5ZDE0NGUwMjU0MTViYTBhZGE3NTM2NDA3YTYwZCIgPjwvZGl2Pgo8L2JvZHk+CjxzY3JpcHQ+ICAgIAogICAgCiAgICAKICAgICAgICB2YXIgYm91bmRzID0gbnVsbDsKICAgIAoKICAgIHZhciBtYXBfZmNlOWQxNDRlMDI1NDE1YmEwYWRhNzUzNjQwN2E2MGQgPSBMLm1hcCgKICAgICAgICAnbWFwX2ZjZTlkMTQ0ZTAyNTQxNWJhMGFkYTc1MzY0MDdhNjBkJywgewogICAgICAgIGNlbnRlcjogWzM3LjcyMDc5MDY0OTcyMzEsIC0wLjkzOTUyNTk5OTk5ODA3ODZdLAogICAgICAgIHpvb206IDEwLAogICAgICAgIG1heEJvdW5kczogYm91bmRzLAogICAgICAgIGxheWVyczogW10sCiAgICAgICAgd29ybGRDb3B5SnVtcDogZmFsc2UsCiAgICAgICAgY3JzOiBMLkNSUy5FUFNHMzg1NywKICAgICAgICB6b29tQ29udHJvbDogdHJ1ZSwKICAgICAgICB9KTsKTC5jb250cm9sLnNjYWxlKCkuYWRkVG8obWFwX2ZjZTlkMTQ0ZTAyNTQxNWJhMGFkYTc1MzY0MDdhNjBkKTsKCiAgICAKICAgIHZhciB0aWxlX2xheWVyXzViOTI4YWQzZTI0YzQzNzE5NDAzZDM1ZGJlYzZkODNmID0gTC50aWxlTGF5ZXIoCiAgICAgICAgJ2h0dHBzOi8ve3N9LnRpbGUub3BlbnN0cmVldG1hcC5vcmcve3p9L3t4fS97eX0ucG5nJywKICAgICAgICB7CiAgICAgICAgImF0dHJpYnV0aW9uIjogbnVsbCwKICAgICAgICAiZGV0ZWN0UmV0aW5hIjogZmFsc2UsCiAgICAgICAgIm1heE5hdGl2ZVpvb20iOiAxOCwKICAgICAgICAibWF4Wm9vbSI6IDE4LAogICAgICAgICJtaW5ab29tIjogMCwKICAgICAgICAibm9XcmFwIjogZmFsc2UsCiAgICAgICAgIm9wYWNpdHkiOiAxLAogICAgICAgICJzdWJkb21haW5zIjogImFiYyIsCiAgICAgICAgInRtcyI6IGZhbHNlCn0pLmFkZFRvKG1hcF9mY2U5ZDE0NGUwMjU0MTViYTBhZGE3NTM2NDA3YTYwZCk7CiAgICB2YXIgdGlsZV9sYXllcl9lOTU2M2ViZmE2MTA0NmY5OGRjYjUzYjNkYjdiOWEwZCA9IEwudGlsZUxheWVyKAogICAgICAgICdodHRwczovL2VhcnRoZW5naW5lLmdvb2dsZWFwaXMuY29tL3YxYWxwaGEvcHJvamVjdHMvZWFydGhlbmdpbmUtbGVnYWN5L21hcHMvOTU5NTVkZTdmOTczYWE1Y2UxOWFiZDc2MjM0YWIwN2QtZGQwZjNkMTFhYTJkYTgzMjYwMmQ1YjBhNjE5NmMwMjcvdGlsZXMve3p9L3t4fS97eX0nLAogICAgICAgIHsKICAgICAgICAiYXR0cmlidXRpb24iOiAiTWFwIERhdGEgJmNvcHk7IDxhIGhyZWY9XCJodHRwczovL2VhcnRoZW5naW5lLmdvb2dsZS5jb20vXCI+R29vZ2xlIEVhcnRoIEVuZ2luZTwvYT4iLAogICAgICAgICJkZXRlY3RSZXRpbmEiOiBmYWxzZSwKICAgICAgICAibWF4TmF0aXZlWm9vbSI6IDE4LAogICAgICAgICJtYXhab29tIjogMTgsCiAgICAgICAgIm1pblpvb20iOiAwLAogICAgICAgICJub1dyYXAiOiBmYWxzZSwKICAgICAgICAib3BhY2l0eSI6IDEsCiAgICAgICAgInN1YmRvbWFpbnMiOiAiYWJjIiwKICAgICAgICAidG1zIjogZmFsc2UKfSkuYWRkVG8obWFwX2ZjZTlkMTQ0ZTAyNTQxNWJhMGFkYTc1MzY0MDdhNjBkKTsKICAgIHZhciB0aWxlX2xheWVyXzk4ZGZmZjJmNmU5ZjRmMDg5ZTdiNmQ0ZGY0ZDgyMzBlID0gTC50aWxlTGF5ZXIoCiAgICAgICAgJ2h0dHBzOi8vZWFydGhlbmdpbmUuZ29vZ2xlYXBpcy5jb20vdjFhbHBoYS9wcm9qZWN0cy9lYXJ0aGVuZ2luZS1sZWdhY3kvbWFwcy8wNWI3ZGM2ZDFkZGU1NjRlNzZmODE4ZTBjNTc5YmQ5NC01ZDU5NGZmNTc5NDFmMDZjOTFlZTlkYmI5MjE1ZmQxYy90aWxlcy97en0ve3h9L3t5fScsCiAgICAgICAgewogICAgICAgICJhdHRyaWJ1dGlvbiI6ICJNYXAgRGF0YSAmY29weTsgPGEgaHJlZj1cImh0dHBzOi8vZWFydGhlbmdpbmUuZ29vZ2xlLmNvbS9cIj5Hb29nbGUgRWFydGggRW5naW5lPC9hPiIsCiAgICAgICAgImRldGVjdFJldGluYSI6IGZhbHNlLAogICAgICAgICJtYXhOYXRpdmVab29tIjogMTgsCiAgICAgICAgIm1heFpvb20iOiAxOCwKICAgICAgICAibWluWm9vbSI6IDAsCiAgICAgICAgIm5vV3JhcCI6IGZhbHNlLAogICAgICAgICJvcGFjaXR5IjogMSwKICAgICAgICAic3ViZG9tYWlucyI6ICJhYmMiLAogICAgICAgICJ0bXMiOiBmYWxzZQp9KS5hZGRUbyhtYXBfZmNlOWQxNDRlMDI1NDE1YmEwYWRhNzUzNjQwN2E2MGQpOwogICAgCiAgICAgICAgICAgIHZhciBsYXllcl9jb250cm9sX2VlYTZhZDY1OTY1ZjQxODM4Yjg5ZDNmMWJiNmEzYTFkID0gewogICAgICAgICAgICAgICAgYmFzZV9sYXllcnMgOiB7ICJvcGVuc3RyZWV0bWFwIiA6IHRpbGVfbGF5ZXJfNWI5MjhhZDNlMjRjNDM3MTk0MDNkMzVkYmVjNmQ4M2YsIH0sCiAgICAgICAgICAgICAgICBvdmVybGF5cyA6IHsgIlN1bW1lciBSRiBDbGFzc2lmaWNhdGlvbiByZXN1bHRzIiA6IHRpbGVfbGF5ZXJfZTk1NjNlYmZhNjEwNDZmOThkY2I1M2IzZGI3YjlhMGQsIldpbnRlciBSRiBDbGFzc2lmaWNhdGlvbiByZXN1bHRzIiA6IHRpbGVfbGF5ZXJfOThkZmZmMmY2ZTlmNGYwODllN2I2ZDRkZjRkODIzMGUsIH0KICAgICAgICAgICAgICAgIH07CiAgICAgICAgICAgIEwuY29udHJvbC5sYXllcnMoCiAgICAgICAgICAgICAgICBsYXllcl9jb250cm9sX2VlYTZhZDY1OTY1ZjQxODM4Yjg5ZDNmMWJiNmEzYTFkLmJhc2VfbGF5ZXJzLAogICAgICAgICAgICAgICAgbGF5ZXJfY29udHJvbF9lZWE2YWQ2NTk2NWY0MTgzOGI4OWQzZjFiYjZhM2ExZC5vdmVybGF5cywKICAgICAgICAgICAgICAgIHtwb3NpdGlvbjogJ3RvcHJpZ2h0JywKICAgICAgICAgICAgICAgICBjb2xsYXBzZWQ6IHRydWUsCiAgICAgICAgICAgICAgICAgYXV0b1pJbmRleDogdHJ1ZQogICAgICAgICAgICAgICAgfSkuYWRkVG8obWFwX2ZjZTlkMTQ0ZTAyNTQxNWJhMGFkYTc1MzY0MDdhNjBkKTsKICAgICAgICAgICAgCiAgICAgICAgCjwvc2NyaXB0Pg== onload=\"this.contentDocument.open();this.contentDocument.write(atob(this.getAttribute('data-html')));this.contentDocument.close();\" allowfullscreen webkitallowfullscreen mozallowfullscreen></iframe></div></div>"
            ],
            "text/plain": [
              "<folium.folium.Map at 0x7f83cb8b9358>"
            ]
          },
          "metadata": {
            "tags": []
          },
          "execution_count": 26
        }
      ]
    },
    {
      "cell_type": "markdown",
      "metadata": {
        "id": "44S3AnNmKFmp",
        "colab_type": "text"
      },
      "source": [
        "Finally, after the classification is finished the results are combined using an or operation to create the final classifcation map."
      ]
    },
    {
      "cell_type": "code",
      "metadata": {
        "id": "YZD7MCKEFQqw",
        "colab_type": "code",
        "colab": {}
      },
      "source": [
        "ia_summer = summer_clf.select('irrigated_area')\n",
        "ia_winter = winter_clf.select('irrigated_area')\n",
        "task = join_seasonal_irrigated_areas(\n",
        "    ia_summer,\n",
        "    ia_winter,\n",
        "    area_of_interest,\n",
        "    year,\n",
        "    aoi_coordinates,\n",
        "    export_method='asset',\n",
        "    user_path=GEE_USER_PATH\n",
        "\n",
        "  )"
      ],
      "execution_count": 0,
      "outputs": []
    },
    {
      "cell_type": "code",
      "metadata": {
        "id": "w1YNXXVREEcX",
        "colab_type": "code",
        "outputId": "3e6179b3-ba43-4ee7-d683-16f08b251d9b",
        "colab": {
          "base_uri": "https://localhost:8080/",
          "height": 72
        }
      },
      "source": [
        "track_task(task)"
      ],
      "execution_count": 0,
      "outputs": [
        {
          "output_type": "stream",
          "text": [
            " Running Task (0 min)\n",
            " Task Completed, runtime: 1\n"
          ],
          "name": "stdout"
        },
        {
          "output_type": "execute_result",
          "data": {
            "text/plain": [
              "True"
            ]
          },
          "metadata": {
            "tags": []
          },
          "execution_count": 28
        }
      ]
    },
    {
      "cell_type": "markdown",
      "metadata": {
        "id": "1hulSCB_KQfD",
        "colab_type": "text"
      },
      "source": [
        "Let's show the final result!"
      ]
    },
    {
      "cell_type": "code",
      "metadata": {
        "id": "57nbUXQYp-FU",
        "colab_type": "code",
        "outputId": "eb3970b5-ce7e-4ddd-d917-45260a7ed653",
        "colab": {
          "base_uri": "https://localhost:8080/",
          "height": 863
        }
      },
      "source": [
        "ia_classes = {\n",
        "        0: 'Not Irrigated',\n",
        "        1: 'Year Round Irrigated Trees',\n",
        "        2: 'Year Round Irrigated Crops',\n",
        "        3: 'Summer Irrigated Trees',\n",
        "        4: 'Summer Irrigated Crops',\n",
        "        5: 'Winter Irrigated Trees',\n",
        "        6: 'Winter Irrigated Crops',\n",
        "        7: 'Uncertain Areas',\n",
        "    }\n",
        "\n",
        "ia_year = ee.Image(f'{results_folder}irrigated_area/{area_of_interest}/irrigated_areas_{area_of_interest}_{year}').clip(aoi)\n",
        "images_results = {\n",
        "      'Irrigated Areas Overview': ia_year.getMapId(visualization.vis_irrigated_area_map())\n",
        "  }\n",
        "map = visualization.create_folium_map(images_results, coords=[aoi_centroid[1], aoi_centroid[0]], zoom=10, height='100%')\n",
        "visualization.create_categorical_legend(map, visualization.vis_irrigated_area_map()['palette'], ia_classes)\n"
      ],
      "execution_count": 0,
      "outputs": [
        {
          "output_type": "execute_result",
          "data": {
            "text/html": [
              "<div style=\"width:100%;\"><div style=\"position:relative;width:100%;height:0;padding-bottom:60%;\"><span style=\"color:#565656\">Make this Notebook Trusted to load map: File -> Trust Notebook</span><iframe src=\"about:blank\" style=\"position:absolute;width:100%;height:100%;left:0;top:0;border:none !important;\" data-html=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 onload=\"this.contentDocument.open();this.contentDocument.write(atob(this.getAttribute('data-html')));this.contentDocument.close();\" allowfullscreen webkitallowfullscreen mozallowfullscreen></iframe></div></div>"
            ],
            "text/plain": [
              "<branca.element.Figure at 0x7f83cb8c4b00>"
            ]
          },
          "metadata": {
            "tags": []
          },
          "execution_count": 29
        }
      ]
    }
  ]
}