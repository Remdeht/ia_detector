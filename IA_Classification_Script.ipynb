{
  "nbformat": 4,
  "nbformat_minor": 0,
  "metadata": {
    "colab": {
      "name": "IA_Classification_Script",
      "provenance": [],
      "collapsed_sections": [],
      "include_colab_link": true
    },
    "kernelspec": {
      "name": "python3",
      "display_name": "Python 3"
    }
  },
  "cells": [
    {
      "cell_type": "markdown",
      "metadata": {
        "id": "view-in-github",
        "colab_type": "text"
      },
      "source": [
        "<a href=\"https://colab.research.google.com/github/Remdeht/ia_detector/blob/master/IA_Classification_Script.ipynb\" target=\"_parent\"><img src=\"https://colab.research.google.com/assets/colab-badge.svg\" alt=\"Open In Colab\"/></a>"
      ]
    },
    {
      "cell_type": "markdown",
      "metadata": {
        "id": "e0Wiz1TK2p47",
        "colab_type": "text"
      },
      "source": [
        "# **Irrigated Area Classification in Semi-Arid Regions**\n",
        "\n",
        "This notebook contains an example of how to classify irrigated herbaceous and perennial tree areas in semi-arid regions. It makes use of the Google Earth Engine, for which an account is needed. For more information on the Google Earth Engine and instructions on how to make an account click [here](https://earthengine.google.com/).  "
      ]
    },
    {
      "cell_type": "markdown",
      "metadata": {
        "id": "llV8JNO0R6Dt",
        "colab_type": "text"
      },
      "source": [
        "First, Import the Github Repository containing the Irrigated Areas Classification package. "
      ]
    },
    {
      "cell_type": "code",
      "metadata": {
        "id": "cN8dc_1fF4Wb",
        "colab_type": "code",
        "colab": {}
      },
      "source": [
        "!git clone https://github.com/Remdeht/ia_detector.git ia"
      ],
      "execution_count": null,
      "outputs": []
    },
    {
      "cell_type": "code",
      "metadata": {
        "id": "jXekQl42IBCM",
        "colab_type": "code",
        "colab": {}
      },
      "source": [
        " !pip install monthdelta"
      ],
      "execution_count": null,
      "outputs": []
    },
    {
      "cell_type": "markdown",
      "metadata": {
        "id": "scqnlPd8GAPA",
        "colab_type": "text"
      },
      "source": [
        "Load the required libraries and initialize the GEE. If this is your first tume using the Earth Engine, you need to authenticate first via the *ee.Authenticate()* call. Instructions on how to authenticate your GEE will appear in the output below. "
      ]
    },
    {
      "cell_type": "code",
      "metadata": {
        "id": "5CJ8mFSbsGq5",
        "colab_type": "code",
        "colab": {}
      },
      "source": [
        "import ee \n",
        "ee.Authenticate()  # if first time user of the Google Earth Engine on this device, otherwise ee.Initialize() is enough"
      ],
      "execution_count": null,
      "outputs": []
    },
    {
      "cell_type": "code",
      "metadata": {
        "id": "5lu845MmmtS1",
        "colab_type": "code",
        "colab": {}
      },
      "source": [
        "import ee\n",
        "ee.Initialize()\n",
        "\n",
        "import itertools\n",
        "import sys\n",
        "import numpy as np\n",
        "import folium\n",
        "from ia.gee_functions.classification import create_features, create_training_areas, classify_irrigated_areas, \\\n",
        "    join_seasonal_irrigated_areas\n",
        "from ia.gee_functions.constants import GEE_USER_PATH\n",
        "from ia.gee_functions.export import track_task, export_to_drive\n",
        "from ia.gee_functions import visualization\n",
        "from datetime import datetime\n",
        "from ia.gee_functions.validation import calc_area"
      ],
      "execution_count": null,
      "outputs": []
    },
    {
      "cell_type": "markdown",
      "metadata": {
        "id": "GnIb62PHGZ2k",
        "colab_type": "text"
      },
      "source": [
        "# **Area of Interest**\n",
        "\n",
        "Before running the classification you must select an area of interest. You can use your own area, by filling in the Lat/Long coordinates of the rectangular extent of your choice or use one of the extents available from the list below. If you run the next code block a map will appear that allows you to check the coordinates of a location by clicking on it. \n",
        "\n"
      ]
    },
    {
      "cell_type": "code",
      "metadata": {
        "id": "tXtfFp6F6yge",
        "colab_type": "code",
        "colab": {}
      },
      "source": [
        "map = visualization.create_folium_map(images=None, coords=[37.656830, -1.046193], zoom=8, height='100%')\n",
        "pu = folium.LatLngPopup().add_to(map)\n",
        "map"
      ],
      "execution_count": null,
      "outputs": []
    },
    {
      "cell_type": "markdown",
      "metadata": {
        "id": "CYwqLGbb7VCS",
        "colab_type": "text"
      },
      "source": [
        "In the dropdown menu, select which area of interest you'd wish to use for the classification. If you'd like define your own extent, select the option 'Custom Rectangular Extent'. You can then insert the maximum and minimum latitude and longitude coordinates which will be used to create a rectangular polygon.\n",
        "\n",
        "If you're familiar with the Google Earth Engine, and know how to upload vector layers and load them via their assetId, feel free to use your own vector asset by selecting the 'Other GEE Vector' option in the drop down menu and specifying the assetId in the 'aoi_loc' field. "
      ]
    },
    {
      "cell_type": "code",
      "metadata": {
        "id": "wLGSGS7ihAEh",
        "colab_type": "code",
        "cellView": "form",
        "colab": {}
      },
      "source": [
        "#@markdown ---\n",
        "#@title Select your area of interest { run: \"auto\" }\n",
        "area = \"Campo de Cartagena\" #@param [\"Campo de Cartagena\", \"Murcia Region\", \"Segura Watershed\", \"Custom Rectangular Extent\", \"Other GEE Vector\"] { run: \"auto\" }\n",
        "\n",
        "areas = {\n",
        "    'Campo de Cartagena':'cdc',\n",
        "    'Murcia Region':'rdm',\n",
        "    'Segura Watershed':'cds',\n",
        "    'Custom Rectangular Extent':'',\n",
        "    'Other GEE Vector':''\n",
        "}\n",
        "\n",
        "area_of_interest = areas[area]\n",
        "\n",
        "if not area_of_interest == '':\n",
        "  aoi = ee.FeatureCollection(f'users/Postm087/vector/outline/outline_{area_of_interest}')\n",
        "\n",
        "#@markdown ---\n",
        "#@markdown ### *Custom Rectangular Extent*\n",
        "#@markdown ### Fill in maximum and minimum latitude and longitude coordinates of the extent\n",
        "elif area == 'Custom Rectangular Extent':\n",
        "  lat_min = 37.656830  #@param {type:\"number\"}\n",
        "  lat_max = 37.784704  #@param {type:\"number\"}\n",
        "  lng_min = -1.046193 #@param {type:\"number\"}\n",
        "  lng_max = -0.832859 #@param {type:\"number\"}\n",
        "  aoi = ee.FeatureCollection(ee.Feature(ee.Geometry.Polygon([\n",
        "                   [lng_min, lat_max],\n",
        "                   [lng_max, lat_max],\n",
        "                   [lng_max, lat_min],\n",
        "                   [lng_min, lat_min],\n",
        "                   [lng_min, lat_max]\n",
        "  ])))\n",
        "  #@markdown ### Fill in the name of your area, this will be used to name the classification outputs { run: \"auto\" }\n",
        "  area_of_interest = 'cre' #@param {type:\"string\"}\n",
        "#@markdown ---\n",
        "#@markdown ### *Load in your own Vector via its assetId*\n",
        "elif area == 'Other GEE Vector':\n",
        "  aoi_loc = ''#@param {type:\"string\"}\n",
        "  aoi = ee.FeatureCollection(aoi_loc)\n",
        "  area_of_interest = 'cre' #@param {type:\"string\"}\n",
        "\n",
        "\n",
        "aoi_coordinates = aoi.geometry().bounds().getInfo()['coordinates']\n",
        "aoi_centroid = aoi.geometry().bounds().centroid(1).coordinates().getInfo()\n",
        "\n",
        "layer = {\n",
        "    'Area of Interest':aoi.getMapId({'color':'White'})\n",
        "}\n",
        "\n",
        "map = visualization.create_folium_map(layer, coords=[aoi_centroid[1], aoi_centroid[0]], zoom=8, height='100%')\n",
        "map\n"
      ],
      "execution_count": null,
      "outputs": []
    },
    {
      "cell_type": "markdown",
      "metadata": {
        "id": "I0SiFDpdGcd9",
        "colab_type": "text"
      },
      "source": [
        "Now that the area for classification has been specified, the next step before classification is to determine the period of time for which to perform the classification. Two separate classifications are performed, one for the summer season which spans from April until September and once for the winter which spans from October until March. You can specify the period of your choosing in the date-picker below, but keep in mind to select a one year period. "
      ]
    },
    {
      "cell_type": "code",
      "metadata": {
        "id": "JUIfNV2Smw2F",
        "colab_type": "code",
        "cellView": "form",
        "colab": {}
      },
      "source": [
        "start_date = \"2013-04-01\" #@param {type:\"date\"}\n",
        "end_date = \"2014-04-01\" #@param {type:\"date\"}\n",
        "\n",
        "\n",
        "start_date_dt = datetime.strptime(start_date, '%Y-%m-%d')\n",
        "end_date_dt = datetime.strptime(end_date, '%Y-%m-%d')\n",
        "year = str(end_date_dt.year)[-4:]\n",
        "classification_period = {year:(start_date, end_date)}\n",
        "\n",
        "# Some variables needed for classification but not of much importance for the user.\n",
        "sat = 'landsat'  # Satellite data to use, as of now sentinel has not been tested properly so better not to use it. \n",
        "stats = ['mean', 'max'] # Statistical maps to use for classification.\n",
        "stats_combos = list(itertools.combinations(stats, 2))\n",
        "\n",
        "# Some folders where the data are saved\n",
        "crop_data_folder = f'{GEE_USER_PATH}/ia_classification/raster/data/{area_of_interest}/{sat}/'\n",
        "training_data_folder = f'{GEE_USER_PATH}/ia_classification/raster/training_areas/{area_of_interest}/'\n",
        "results_folder = f'{GEE_USER_PATH}/ia_classification/raster/results/'"
      ],
      "execution_count": null,
      "outputs": []
    },
    {
      "cell_type": "markdown",
      "metadata": {
        "id": "kM0kxQ1hHrh6",
        "colab_type": "text"
      },
      "source": [
        "Now that both the area and the time period for classification are known, the feature data for classification can be generated from satellite imagery. For both the summer and winter season a collection of pixel statistic maps will be generated based on a selection of spectral indices. The spectral indices used for classification are:\n",
        "\n",
        "1.   Normalized Difference Vegetation Index - *NDVI*\n",
        "2.   Normalized Difference Water Content Index - *NDWI*\n",
        "2.   Normalized Difference Water Bodies Index - *NDWI*\n",
        "3.   Water-Adjusted Green Index - *WGI*\n",
        "4.   Green Chlorophile Vegetation Index - *GCVI*\n",
        "5.   Normalized Difference Built-Up Index - *NDBI*\n",
        "\n",
        "The generation of the feature data maps can take a while, depending on the size of the area of interest. When the task is done running on the Google Earth Engine Servers, a message will pop up in the output below. "
      ]
    },
    {
      "cell_type": "code",
      "metadata": {
        "id": "lxp32Mn-UFwo",
        "colab_type": "code",
        "colab": {}
      },
      "source": [
        "tasks = {}\n",
        "for year in classification_period:\n",
        "    export_feature_task = create_features(\n",
        "        classification_period[year],\n",
        "        aoi,\n",
        "        aoi_name=area_of_interest,\n",
        "        sensor=sat)\n",
        "        \n",
        "track_task(export_feature_task) # tracks the status of the export task\n",
        "  "
      ],
      "execution_count": null,
      "outputs": []
    },
    {
      "cell_type": "markdown",
      "metadata": {
        "id": "rRuHKeCGGw00",
        "colab_type": "text"
      },
      "source": [
        "Let's have a look at some of the feature data layers. By running the code block below you'll generate a folium map containing the RGB composites for the summer and the winter seasons, as well as the median NDVI values and the WGI standard deviation values per pixel over the summer and winter."
      ]
    },
    {
      "cell_type": "code",
      "metadata": {
        "id": "E0gh8zInGq_V",
        "colab_type": "code",
        "colab": {}
      },
      "source": [
        "summer = ee.Image(f\"{crop_data_folder}crop_data_summer_{area_of_interest}_{year}\")\n",
        "winter = ee.Image(f\"{crop_data_folder}crop_data_winter_{area_of_interest}_{year}\")\n",
        "images = {\n",
        "      'Summer Feature Data RGB': summer.getMapId(visualization.vis_params_rgb(bands=['red', 'green', 'blue'])), \n",
        "      'Winter Feature Data RGB': winter.getMapId(visualization.vis_params_rgb(bands=['red', 'green', 'blue'])),\n",
        "      'Summer Feature Data NDVI mean': summer.getMapId(visualization.vis_params_cp(band=['NDVI_mean'], min_val=-1, max_val=1)), \n",
        "      'Winter Feature Data NDVI mean': winter.getMapId(visualization.vis_params_cp(band=['NDVI_mean'], min_val=-1, max_val=1)), \n",
        "      'Summer Feature Data WGI standard deviation': summer.getMapId(visualization.vis_params_cp(band=['WGI_std'], min_val=0, max_val=1)), \n",
        "      'Winter Feature Data WGI standard deviation': winter.getMapId(visualization.vis_params_cp(band=['WGI_std'], min_val=0, max_val=1)), \n",
        "  }\n",
        "map = visualization.create_folium_map(images, coords=[aoi_centroid[1], aoi_centroid[0]], zoom=10, height='100%')\n",
        "map"
      ],
      "execution_count": null,
      "outputs": []
    },
    {
      "cell_type": "markdown",
      "metadata": {
        "id": "Up-_LzOOISDf",
        "colab_type": "text"
      },
      "source": [
        "#**Training Areas**\n",
        "\n",
        "Now that the feature data is generated, the next step in to create training areas for the Random Forest thresholding. To save you the task of manually selecting these areas, a system of automatically selecting training areas for classification has been applied. The system makes use of a priori knowledge of typical spectral characteristics for a selection of land cover classes to select training sites via thresholding.\n",
        "\n",
        "Training sites for the following land cover classes will be generated: \n",
        "\n",
        "*   Forest\n",
        "*   Scrubs\n",
        "*   Rainfed Crops and Trees\n",
        "*   Greenhouses\n",
        "*   Irrigated Herbaceous Crops\n",
        "*   Irrigated Perennial Trees\n",
        "*   Water Bodies\n",
        "*   Unproductive Areas (Urban/Fallow Lands)\n",
        "\n",
        "By running the code block below the generation of training sites will be started. This may take a couple of minutes. A confirmation message will appear when the process is completed."
      ]
    },
    {
      "cell_type": "code",
      "metadata": {
        "id": "4WPEzdfnhagZ",
        "colab_type": "code",
        "colab": {}
      },
      "source": [
        "training_tasks = {}\n",
        "for year in classification_period:\n",
        "    export_training_areas_task = create_training_areas(\n",
        "          aoi,\n",
        "          f\"{crop_data_folder}crop_data_season_{area_of_interest}_{year}\",\n",
        "          aoi_name=area_of_interest,\n",
        "          year_string=year\n",
        "          )\n",
        "track_task(export_training_areas_task)  # tracks the export task"
      ],
      "execution_count": null,
      "outputs": []
    },
    {
      "cell_type": "markdown",
      "metadata": {
        "id": "ExE_uSXEIffc",
        "colab_type": "text"
      },
      "source": [
        "If you've reached this point, the generation of training areas should have been completed. Run the code block below to see the results. "
      ]
    },
    {
      "cell_type": "code",
      "metadata": {
        "id": "-Uavvn41Vh4P",
        "colab_type": "code",
        "colab": {}
      },
      "source": [
        "training_classes = {\n",
        "    0:'Unused',\n",
        "    1:'Forest',\n",
        "    2:'Scrubs',\n",
        "    3:'Rainfed Crops and Trees',\n",
        "    4:'Greenhouses',\n",
        "    5:'Irrigated Herbaceous Crops',\n",
        "    6:'Irrigated Trees',\n",
        "    7:'Water Bodies',\n",
        "    8:'Urban/Fallow lands'\n",
        "}\n",
        "\n",
        "summer_training = ee.Image(f'{training_data_folder}training_areas_summer_{area_of_interest}_{year}')\n",
        "winter_training = ee.Image(f'{training_data_folder}training_areas_winter_{area_of_interest}_{year}')\n",
        "images_training = {\n",
        "      'Summer Feature Training Areas': summer_training.getMapId(visualization.vis_rf_classification(band='training')),\n",
        "      'Winter Feature Training Areas': winter_training.getMapId(visualization.vis_rf_classification(band='training')) \n",
        "  }\n",
        "map = visualization.create_folium_map(images_training, coords=[aoi_centroid[1], aoi_centroid[0]], zoom=10, height='100%')\n",
        "visualization.create_categorical_legend(map, visualization.vis_rf_classification()['palette'], training_classes)\n",
        "map"
      ],
      "execution_count": null,
      "outputs": []
    },
    {
      "cell_type": "markdown",
      "metadata": {
        "id": "4nsBPndrIpPr",
        "colab_type": "text"
      },
      "source": [
        "# **Classification**\n",
        "\n",
        "Now that the training sites and feature data are generated, we can finally move on to the classification. The classification is performed using a Random Forest classifier, for which the following parameters can be adjusted: \n",
        "\n",
        "*  The Number of Trees - *no_trees*\n",
        "*  The Number of Variables per Split - *vps*\n",
        "*  The Bagging Fraction - *bf*\n",
        "*  Minimum Number of Training Points per class - *min_tp*\n",
        "*  Maximum Number of Training Points per class - *max_tp*\n",
        "\n",
        "Run the code below to start the classification. The classification may make take some time depending on the number of trees and training points specified.\n"
      ]
    },
    {
      "cell_type": "code",
      "metadata": {
        "id": "C_AlNkL_hadR",
        "colab_type": "code",
        "cellView": "form",
        "colab": {}
      },
      "source": [
        "#@markdown ---\n",
        "#@title ### Classification Parameters\n",
        "#@markdown ### Number of Trees\n",
        "no_trees = 150 #@param {type:\"slider\", min:0, max:500, step:10}\n",
        "#@markdown ### Variables per Split\n",
        "vps = 6 #@param {type:\"slider\", min:2, max:10, step:1}\n",
        "#@markdown ### Bagging Fraction\n",
        "bf = 0.2 #@param {type:\"slider\", min:0, max:1, step:0.05}\n",
        "#@markdown ### Minimum Number of Training Points\n",
        "min_tp = 1000 #@param {type:\"slider\", min:100, max:5000, step:100}\n",
        "#@markdown ### Maximum Number of Training Points\n",
        "max_tp = 5000 #@param {type:\"slider\", min:5000, max:75000, step:1000}\n",
        "classification_tasks = {}\n",
        "\n",
        "for year in classification_period:\n",
        "  for season in ['winter', 'summer']:\n",
        "    for combo in stats_combos:\n",
        "      # load the feature data maps\n",
        "      feature_data_image = ee.Image(f\"{crop_data_folder}crop_data_{season}_{area_of_interest}_{year}\")\n",
        "      bands_to_select = ['red', 'green', 'blue', 'nir', 'swir1','.*std.*', 'MTI']\n",
        "      stat_bands = [f'.*{s}.*' for s in list(combo)]\n",
        "      bands_to_select += stat_bands # bands to select for classification\n",
        "      feature_data_image = feature_data_image.select(bands_to_select)\n",
        "      classification_name = \"_\".join(combo)\n",
        "      classification_name += f'_{season}'\n",
        "                  \n",
        "      training_image = ee.Image(\n",
        "      f'{GEE_USER_PATH}/ia_classification/raster/training_areas/{area_of_interest}/training_areas_{season}_{area_of_interest}_{year}')\n",
        "      classification_task = classify_irrigated_areas(\n",
        "      feature_data_image,\n",
        "      training_image,\n",
        "      aoi,\n",
        "      aoi_name=area_of_interest,\n",
        "      season=season,\n",
        "      year=year,\n",
        "      no_trees=no_trees,\n",
        "      bag_fraction=bf,\n",
        "      vps=vps,\n",
        "      min_tp=min_tp,\n",
        "      max_tp=max_tp\n",
        "      )\n",
        "      classification_tasks[season]=classification_task\n",
        "          \n",
        "track_task(classification_tasks)"
      ],
      "execution_count": null,
      "outputs": []
    },
    {
      "cell_type": "markdown",
      "metadata": {
        "id": "MCPUc3jjJ5JE",
        "colab_type": "text"
      },
      "source": [
        "Now that the classification has been completed, the results can be inspected \n",
        "using a folium map. "
      ]
    },
    {
      "cell_type": "code",
      "metadata": {
        "id": "YT2Ms6cKfzKT",
        "colab_type": "code",
        "colab": {}
      },
      "source": [
        "summer_clf = ee.Image(f'{results_folder}random_forest/{area_of_interest}/ia_random_forest_{no_trees}tr_{vps}vps_{int(bf*100)}bf_{area_of_interest}_summer_{year}')\n",
        "winter_clf = ee.Image(f'{results_folder}random_forest/{area_of_interest}/ia_random_forest_{no_trees}tr_{vps}vps_{int(bf*100)}bf_{area_of_interest}_winter_{year}')\n",
        "images_clf = {\n",
        "      'Summer Feature Data NDVI mean': summer.getMapId(visualization.vis_params_cp(band=['NDVI_mean'], min_val=-1, max_val=1)), \n",
        "      'Winter Feature Data NDVI mean': winter.getMapId(visualization.vis_params_cp(band=['NDVI_mean'], min_val=-1, max_val=1)),\n",
        "      'Summer Feature Data WGI standard deviation': summer.getMapId(visualization.vis_params_cp(band=['WGI_std'], min_val=0, max_val=1)), \n",
        "      'Winter Feature Data WGI standard deviation': winter.getMapId(visualization.vis_params_cp(band=['WGI_std'], min_val=0, max_val=1)),\n",
        "      'Summer RF Classification results': summer_clf.getMapId(visualization.vis_rf_classification()),\n",
        "      'Winter RF Classification results': winter_clf.getMapId(visualization.vis_rf_classification())\n",
        "}\n",
        "\n",
        "map = visualization.create_folium_map(images_clf, coords=[aoi_centroid[1], aoi_centroid[0]], zoom=10, height='100%')\n",
        "map = visualization.create_categorical_legend(map, visualization.vis_rf_classification()['palette'], training_classes)\n",
        "map"
      ],
      "execution_count": null,
      "outputs": []
    },
    {
      "cell_type": "markdown",
      "metadata": {
        "id": "44S3AnNmKFmp",
        "colab_type": "text"
      },
      "source": [
        "Finally, the last step is to combine the classification results for the summer and the winter season into a single map by running the code block below."
      ]
    },
    {
      "cell_type": "code",
      "metadata": {
        "id": "YZD7MCKEFQqw",
        "colab_type": "code",
        "colab": {}
      },
      "source": [
        "ia_summer = summer_clf.select('irrigated_area')\n",
        "ia_winter = winter_clf.select('irrigated_area')\n",
        "task = join_seasonal_irrigated_areas(\n",
        "    ia_summer,\n",
        "    ia_winter,\n",
        "    area_of_interest,\n",
        "    year,\n",
        "    aoi,\n",
        "    export_method='asset',\n",
        "  )\n",
        "track_task(task)"
      ],
      "execution_count": null,
      "outputs": []
    },
    {
      "cell_type": "markdown",
      "metadata": {
        "id": "1hulSCB_KQfD",
        "colab_type": "text"
      },
      "source": [
        "# **Results**\n",
        "\n",
        "The irrigated areas from both classification maps have been combined, creating a final map depicting the irrigated areas over the whole year. The following classes are assigned, based on which period the area was classified as irrigated. \n",
        "\n",
        "*  Not Irrigated\n",
        "\n",
        "*  Year-Round Irrigated Trees\n",
        "*  Year-Round Irrigated Crops\n",
        "*  Summer Irrigated Trees\n",
        "*  Summer Irrigated Crops\n",
        "*  Winter Irrigated Trees\n",
        "*  Winter Irrigated Crops\n",
        "*  Uncertain Areas\n",
        "\n",
        "Let's run the code below and take a look at the final result! "
      ]
    },
    {
      "cell_type": "code",
      "metadata": {
        "id": "57nbUXQYp-FU",
        "colab_type": "code",
        "colab": {}
      },
      "source": [
        "ia_classes = {\n",
        "        0: 'Not Irrigated',\n",
        "        1: 'Year Round Irrigated Trees',\n",
        "        2: 'Year Round Irrigated Crops',\n",
        "        3: 'Summer Irrigated Trees',\n",
        "        4: 'Summer Irrigated Crops',\n",
        "        5: 'Winter Irrigated Trees',\n",
        "        6: 'Winter Irrigated Crops',\n",
        "        7: 'Uncertain Areas',\n",
        "    }\n",
        "\n",
        "\n",
        "ia_year = ee.Image(f'{results_folder}irrigated_area/{area_of_interest}/irrigated_areas_{area_of_interest}_{year}').clip(aoi)\n",
        "\n",
        "images_results = {\n",
        "      'Irrigated Areas Overview': ia_year.getMapId(visualization.vis_irrigated_area_map()),\n",
        "  }\n",
        "map = visualization.create_folium_map(images_results, coords=[aoi_centroid[1], aoi_centroid[0]], zoom=10, height='100%')\n",
        "map = visualization.create_categorical_legend(map, visualization.vis_irrigated_area_map()['palette'], ia_classes)\n",
        "map"
      ],
      "execution_count": null,
      "outputs": []
    },
    {
      "cell_type": "code",
      "metadata": {
        "id": "023cyLv-jaYB",
        "colab_type": "code",
        "cellView": "form",
        "colab": {}
      },
      "source": [
        "#@title Export Results to Drive {run:\"auto\"}\n",
        "#@markdown If you'd like to export the classification results to your Google drive account, please check the box below and run the code. \n",
        "\n",
        "export_results_to_drive = True #@param {type:\"boolean\"}\n",
        "\n",
        "\n",
        "images_to_export = {\n",
        "                    'summer_classification': summer_clf,\n",
        "                    'winter_classification': winter_clf,\n",
        "                    'irrigated_areas': ia_year,\n",
        "                    }\n",
        "                  \n",
        "if export_results_to_drive:\n",
        "  for img in images_to_export:\n",
        "    export_task = export_to_drive(images_to_export[img], 'image', img, aoi_coordinates, 'ia_classification' )\n",
        "  track_task(export_task)\n",
        " \n"
      ],
      "execution_count": null,
      "outputs": []
    }
  ]
}