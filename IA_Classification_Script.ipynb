{
  "nbformat": 4,
  "nbformat_minor": 0,
  "metadata": {
    "colab": {
      "name": "IA_Classification_Script",
      "provenance": [],
      "collapsed_sections": [],
      "include_colab_link": true
    },
    "kernelspec": {
      "name": "python3",
      "display_name": "Python 3"
    }
  },
  "cells": [
    {
      "cell_type": "markdown",
      "metadata": {
        "id": "view-in-github",
        "colab_type": "text"
      },
      "source": [
        "<a href=\"https://colab.research.google.com/github/Remdeht/ia_detector/blob/master/IA_Classification_Script.ipynb\" target=\"_parent\"><img src=\"https://colab.research.google.com/assets/colab-badge.svg\" alt=\"Open In Colab\"/></a>"
      ]
    },
    {
      "cell_type": "markdown",
      "metadata": {
        "id": "e0Wiz1TK2p47",
        "colab_type": "text"
      },
      "source": [
        "# **Irrigated Area Classification in Semi-Arid Regions**\n",
        "\n",
        "This notebook contains an example of how to classify irrigated herbaceous and pernennial tree areas in semi arid regions. It makes use of the Google Earth Engine, for which an account is needed. For more information on the Google Earth Engine and instructions on how to make a an account click [here](https://earthengine.google.com/).  "
      ]
    },
    {
      "cell_type": "markdown",
      "metadata": {
        "id": "llV8JNO0R6Dt",
        "colab_type": "text"
      },
      "source": [
        "First, Import the Github Repository containing the Irrigated Areas Classification package. "
      ]
    },
    {
      "cell_type": "code",
      "metadata": {
        "id": "cN8dc_1fF4Wb",
        "colab_type": "code",
        "outputId": "be8b50fa-c10e-4e93-cefb-2055de11ef09",
        "colab": {
          "base_uri": "https://localhost:8080/",
          "height": 126
        }
      },
      "source": [
        "!git clone https://github.com/Remdeht/ia_detector.git ia"
      ],
      "execution_count": 1,
      "outputs": [
        {
          "output_type": "stream",
          "text": [
            "Cloning into 'ia'...\n",
            "remote: Enumerating objects: 97, done.\u001b[K\n",
            "remote: Counting objects: 100% (97/97), done.\u001b[K\n",
            "remote: Compressing objects: 100% (68/68), done.\u001b[K\n",
            "remote: Total 97 (delta 39), reused 79 (delta 26), pack-reused 0\u001b[K\n",
            "Unpacking objects: 100% (97/97), done.\n"
          ],
          "name": "stdout"
        }
      ]
    },
    {
      "cell_type": "code",
      "metadata": {
        "id": "jXekQl42IBCM",
        "colab_type": "code",
        "outputId": "2cfacd30-66bf-4740-da25-a7d3a5b65dca",
        "colab": {
          "base_uri": "https://localhost:8080/",
          "height": 35
        }
      },
      "source": [
        " !pip install monthdelta"
      ],
      "execution_count": 2,
      "outputs": [
        {
          "output_type": "stream",
          "text": [
            "Requirement already satisfied: monthdelta in /usr/local/lib/python3.6/dist-packages (0.9.1)\n"
          ],
          "name": "stdout"
        }
      ]
    },
    {
      "cell_type": "markdown",
      "metadata": {
        "id": "scqnlPd8GAPA",
        "colab_type": "text"
      },
      "source": [
        "Load the required libraries and initialize the GEE. If this is your first tume using the Earth Engine, you need to authenticate first via the ee.Authenticate() call. Instructions on how to authenticate your GEE will appear in the output below. "
      ]
    },
    {
      "cell_type": "code",
      "metadata": {
        "id": "5CJ8mFSbsGq5",
        "colab_type": "code",
        "colab": {
          "base_uri": "https://localhost:8080/",
          "height": 182
        },
        "outputId": "9e89ca1e-e865-4765-a8ea-d65ef03c99da"
      },
      "source": [
        "import ee \n",
        "ee.Authenticate()  # if first time user of the Google Earth Engine on this device, otherwise ee.Initialize() is enough"
      ],
      "execution_count": 14,
      "outputs": [
        {
          "output_type": "stream",
          "text": [
            "To authorize access needed by Earth Engine, open the following URL in a web browser and follow the instructions. If the web browser does not start automatically, please manually browse the URL below.\n",
            "\n",
            "    https://accounts.google.com/o/oauth2/auth?client_id=517222506229-vsmmajv00ul0bs7p89v5m89qs8eb9359.apps.googleusercontent.com&scope=https%3A%2F%2Fwww.googleapis.com%2Fauth%2Fearthengine+https%3A%2F%2Fwww.googleapis.com%2Fauth%2Fdevstorage.full_control&redirect_uri=urn%3Aietf%3Awg%3Aoauth%3A2.0%3Aoob&response_type=code&code_challenge=0-2pKBOjRIklkpFr2XEUt03zD-DF0QHdj--UoiZApzA&code_challenge_method=S256\n",
            "\n",
            "The authorization workflow will generate a code, which you should paste in the box below. \n",
            "Enter verification code: 4/0gFhMi2Ohhdwu4IeRn9WZvdGBniMhEpXhr8EDxl_easkbBGj10WCmq4\n",
            "\n",
            "Successfully saved authorization token.\n"
          ],
          "name": "stdout"
        }
      ]
    },
    {
      "cell_type": "code",
      "metadata": {
        "id": "5lu845MmmtS1",
        "colab_type": "code",
        "colab": {}
      },
      "source": [
        "import ee\n",
        "ee.Initialize()\n",
        "\n",
        "import itertools\n",
        "import sys\n",
        "import numpy as np\n",
        "import folium\n",
        "from ia.gee_functions.classification import create_features, create_training_areas, classify_irrigated_areas, \\\n",
        "    join_seasonal_irrigated_areas\n",
        "from ia.gee_functions.constants import GEE_USER_PATH\n",
        "from ia.gee_functions.export import track_task, export_to_drive\n",
        "from ia.gee_functions import visualization\n",
        "from datetime import datetime\n",
        "from ia.gee_functions.validation import calc_area"
      ],
      "execution_count": 0,
      "outputs": []
    },
    {
      "cell_type": "markdown",
      "metadata": {
        "id": "GnIb62PHGZ2k",
        "colab_type": "text"
      },
      "source": [
        "# **Area of Interest**\n",
        "\n",
        "Before running the classification you must select an area of interest. You can use your own area, by filling in the the Lat/Long coordinates of the rectangular extent of your choice or use one of the extents available from the list below. If you run the next code block a map will appear that allows you to check the coordinates of a location by clicking on it. \n",
        "\n"
      ]
    },
    {
      "cell_type": "code",
      "metadata": {
        "id": "tXtfFp6F6yge",
        "colab_type": "code",
        "outputId": "488a61b3-f07b-4080-a6a8-67744923f1f9",
        "colab": {
          "base_uri": "https://localhost:8080/",
          "height": 863
        }
      },
      "source": [
        "map = visualization.create_folium_map(images=None, coords=[20, 0], zoom=8, height='100%')\n",
        "pu = folium.LatLngPopup().add_to(map)\n",
        "map"
      ],
      "execution_count": 4,
      "outputs": [
        {
          "output_type": "execute_result",
          "data": {
            "text/html": [
              "<div style=\"width:100%;\"><div style=\"position:relative;width:100%;height:0;padding-bottom:60%;\"><span style=\"color:#565656\">Make this Notebook Trusted to load map: File -> Trust Notebook</span><iframe src=\"about:blank\" style=\"position:absolute;width:100%;height:100%;left:0;top:0;border:none !important;\" data-html=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 onload=\"this.contentDocument.open();this.contentDocument.write(atob(this.getAttribute('data-html')));this.contentDocument.close();\" allowfullscreen webkitallowfullscreen mozallowfullscreen></iframe></div></div>"
            ],
            "text/plain": [
              "<folium.folium.Map at 0x7f2dfdb7ff98>"
            ]
          },
          "metadata": {
            "tags": []
          },
          "execution_count": 4
        }
      ]
    },
    {
      "cell_type": "markdown",
      "metadata": {
        "id": "CYwqLGbb7VCS",
        "colab_type": "text"
      },
      "source": [
        "In the dropdown menu, select which area of interest you'd wish to use for the classification. If you'd like define your own extent, select the option 'Custom Rectangular Extent'. You can then insert the maximum and minimum latitude and longitude coordinates which will then be used to create a rectangular polygon. Finally  \n",
        "\n",
        "If you're familiar with the Google Earth Engine, and know how to upload vector layers and load them via their assetId, feel free to use your own vector asset by selecting the 'Other GEE Vector' option and inserting the assetId in the 'aoi_loc' field. "
      ]
    },
    {
      "cell_type": "code",
      "metadata": {
        "id": "wLGSGS7ihAEh",
        "colab_type": "code",
        "outputId": "5b6ddd2c-8afa-45fb-fc5c-0ed2ff02c973",
        "cellView": "form",
        "colab": {
          "base_uri": "https://localhost:8080/",
          "height": 863
        }
      },
      "source": [
        "#@markdown ---\n",
        "#@title Select your area of interest { run: \"auto\" }\n",
        "area = \"Campo de Cartagena\" #@param [\"Campo de Cartagena\", \"Murcia Region\", \"Segura Watershed\", \"Custom Rectangular Extent\", \"Other GEE Vector\"] { run: \"auto\" }\n",
        "\n",
        "areas = {\n",
        "    'Campo de Cartagena':'cdc',\n",
        "    'Murcia Region':'rdm',\n",
        "    'Segura Watershed':'cds',\n",
        "    'Custom Rectangular Extent':'',\n",
        "    'Other GEE Vector':''\n",
        "}\n",
        "\n",
        "area_of_interest = areas[area]\n",
        "\n",
        "if not area_of_interest == '':\n",
        "  aoi = ee.FeatureCollection(f'users/Postm087/vector/outline/outline_{area_of_interest}')\n",
        "\n",
        "#@markdown ---\n",
        "#@markdown ### *Custom Rectangular Extent*\n",
        "#@markdown ### Fill in maximum and minimum latitude and longitude coordinates of the extent\n",
        "elif area == 'Custom Rectangular Extent':\n",
        "  lat_min = 37.656830  #@param {type:\"number\"}\n",
        "  lat_max = 37.784704  #@param {type:\"number\"}\n",
        "  lng_min = -1.046193 #@param {type:\"number\"}\n",
        "  lng_max = -0.832859 #@param {type:\"number\"}\n",
        "  aoi = ee.FeatureCollection(ee.Feature(ee.Geometry.Polygon([\n",
        "                   [lng_min, lat_max],\n",
        "                   [lng_max, lat_max],\n",
        "                   [lng_max, lat_min],\n",
        "                   [lng_min, lat_min],\n",
        "                   [lng_min, lat_max]\n",
        "  ])))\n",
        "  #@markdown ### Fill in the name of your area, this will be used to name the classification outputs { run: \"auto\" }\n",
        "  area_of_interest = 'csp' #@param {type:\"string\"}\n",
        "#@markdown ---\n",
        "#@markdown ### *Load in your own Vector via its assetId*\n",
        "elif area == 'Other GEE Vector':\n",
        "  aoi_loc = ''#@param {type:\"string\"}\n",
        "  aoi = ee.FeatureCollection(aoi_loc)\n",
        "  area_of_interest = 'csp' #@param {type:\"string\"}\n",
        "\n",
        "\n",
        "aoi_coordinates = aoi.geometry().bounds().getInfo()['coordinates']\n",
        "aoi_centroid = aoi.geometry().bounds().centroid(1).coordinates().getInfo()\n",
        "\n",
        "layer = {\n",
        "    'Area of Interest':aoi.getMapId({'color':'White'})\n",
        "}\n",
        "\n",
        "map = visualization.create_folium_map(layer, coords=[aoi_centroid[1], aoi_centroid[0]], zoom=8, height='100%')\n",
        "map\n"
      ],
      "execution_count": 5,
      "outputs": [
        {
          "output_type": "execute_result",
          "data": {
            "text/html": [
              "<div style=\"width:100%;\"><div style=\"position:relative;width:100%;height:0;padding-bottom:60%;\"><span style=\"color:#565656\">Make this Notebook Trusted to load map: File -> Trust Notebook</span><iframe src=\"about:blank\" style=\"position:absolute;width:100%;height:100%;left:0;top:0;border:none !important;\" data-html=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 onload=\"this.contentDocument.open();this.contentDocument.write(atob(this.getAttribute('data-html')));this.contentDocument.close();\" allowfullscreen webkitallowfullscreen mozallowfullscreen></iframe></div></div>"
            ],
            "text/plain": [
              "<folium.folium.Map at 0x7f2dfbfcbb70>"
            ]
          },
          "metadata": {
            "tags": []
          },
          "execution_count": 5
        }
      ]
    },
    {
      "cell_type": "markdown",
      "metadata": {
        "id": "I0SiFDpdGcd9",
        "colab_type": "text"
      },
      "source": [
        "Now that the area for classification has been specified, the next step before classification is to determine the timeperiod for which to perform the classification. The classification i done two times for a period of 1 year, once for the summer season which spans from April until September and once for the winter which spans from October until March. You can specify the timeperiod of your choosing in the datepicker below, but keep in mind to pick a one year period. "
      ]
    },
    {
      "cell_type": "code",
      "metadata": {
        "id": "JUIfNV2Smw2F",
        "colab_type": "code",
        "cellView": "form",
        "colab": {}
      },
      "source": [
        "start_date = \"2014-04-01\" #@param {type:\"date\"}\n",
        "end_date = \"2015-04-01\" #@param {type:\"date\"}\n",
        "\n",
        "\n",
        "start_date_dt = datetime.strptime(start_date, '%Y-%m-%d')\n",
        "end_date_dt = datetime.strptime(end_date, '%Y-%m-%d')\n",
        "year = str(int(round(np.mean([start_date_dt.year, end_date_dt.year]))))[-2:]\n",
        "classification_period = {year:(start_date, end_date)}\n",
        "\n",
        "# Some variables needed for classification but not of much importance for the user.\n",
        "sat = 'landsat'  # Satellite data to use, as of now sentinel has not been tested properly so better not to use it. \n",
        "stats = ['median', 'min', 'max'] # Statistical maps to use for classification.\n",
        "stats_combos = list(itertools.combinations(stats, 3))\n",
        "\n",
        "# Some folders where the data are saved\n",
        "crop_data_folder = f'{GEE_USER_PATH}/ia_classification/raster/data/{area_of_interest}/{sat}/'\n",
        "training_data_folder = f'{GEE_USER_PATH}/ia_classification/raster/training_areas/{area_of_interest}/'\n",
        "results_folder = f'{GEE_USER_PATH}/ia_classification/raster/results/'"
      ],
      "execution_count": 0,
      "outputs": []
    },
    {
      "cell_type": "markdown",
      "metadata": {
        "id": "kM0kxQ1hHrh6",
        "colab_type": "text"
      },
      "source": [
        "Now that both the area and the time period for classification are known, the featuer data for classification can be generated from satellite imagery. For both the summer an winter season a collection of pixel statistical maps will be generated based on a selection of spectral indexes. The spectral indexes used for classification are:\n",
        "\n",
        "\n",
        "\n",
        "1.   Normalized Difference Vegetation Index - *NDVI*\n",
        "2.   Normalized Difference Water Content Index - *NDWI*\n",
        "2.   Normalized Difference Water Bodies Index - *NDWI*\n",
        "3.   Water-Adjusted Green Index - *WGI*\n",
        "4.   Green Chlorophile Vegetation Index - *GCVI*\n",
        "5.   Normalized Difference Built Up Index - *NDBI*\n",
        "\n",
        "The generation of the feature data maps can take a while, depending on the size of the area of interest. When the task is done running on the Google Earth Engine Servers, a message will pop up in the output below. \n",
        "\n"
      ]
    },
    {
      "cell_type": "code",
      "metadata": {
        "id": "lxp32Mn-UFwo",
        "colab_type": "code",
        "outputId": "6933d47a-2f90-4d54-b3c9-8b1d1b90f112",
        "colab": {
          "base_uri": "https://localhost:8080/",
          "height": 72
        }
      },
      "source": [
        "for year in classification_period:\n",
        "  for season in ['winter', 'summer']:\n",
        "    export_feature_task = create_features(\n",
        "        classification_period[year],\n",
        "        aoi,\n",
        "        aoi_name=area_of_interest,\n",
        "        year_string=year,\n",
        "        season=season,\n",
        "        collection=sat\n",
        "        )\n",
        "track_task(export_feature_task) # tracks the status of the export task\n",
        "  "
      ],
      "execution_count": 7,
      "outputs": [
        {
          "output_type": "stream",
          "text": [
            "asset already exists\n",
            "asset already exists\n"
          ],
          "name": "stdout"
        },
        {
          "output_type": "execute_result",
          "data": {
            "text/plain": [
              "True"
            ]
          },
          "metadata": {
            "tags": []
          },
          "execution_count": 7
        }
      ]
    },
    {
      "cell_type": "markdown",
      "metadata": {
        "id": "rRuHKeCGGw00",
        "colab_type": "text"
      },
      "source": [
        "Let's have a look at some of the feature data layers. By running  the code block below you'll generate a folium map containing the RGB composites for the summer and the winter seasons, as well as the median NDVI values and the WGI standard deviation values per pixel over the season. The NDVI and WGI values have been visualized using a color palette ranging from red to green.   "
      ]
    },
    {
      "cell_type": "code",
      "metadata": {
        "id": "E0gh8zInGq_V",
        "colab_type": "code",
        "outputId": "8787781b-b178-4205-9136-84f31487e93d",
        "colab": {
          "base_uri": "https://localhost:8080/",
          "height": 863
        }
      },
      "source": [
        "summer = ee.Image(f\"{crop_data_folder}crop_data_summer_{area_of_interest}_{year}\")\n",
        "winter = ee.Image(f\"{crop_data_folder}crop_data_winter_{area_of_interest}_{year}\")\n",
        "images = {\n",
        "      'Summer Feature Data RGB': summer.getMapId(visualization.vis_params_rgb_ls457(bands=['red', 'green', 'blue'])), \n",
        "      'Winter Feature Data RGB': winter.getMapId(visualization.vis_params_rgb_ls457(bands=['red', 'green', 'blue'])),\n",
        "      'Summer Feature Data NDVI median': summer.getMapId(visualization.vis_params_cp(band=['NDVI_median'], min_val=-1, max_val=1)), \n",
        "      'Winter Feature Data NDVI median': winter.getMapId(visualization.vis_params_cp(band=['NDVI_median'], min_val=-1, max_val=1)), \n",
        "      'Summer Feature Data WGI standard deviation': summer.getMapId(visualization.vis_params_cp(band=['WGI_std'], min_val=0, max_val=1)), \n",
        "      'Winter Feature Data WGI standard deviation': winter.getMapId(visualization.vis_params_cp(band=['WGI_std'], min_val=0, max_val=1)), \n",
        "  }\n",
        "map = visualization.create_folium_map(images, coords=[aoi_centroid[1], aoi_centroid[0]], zoom=10, height='100%')\n",
        "map"
      ],
      "execution_count": 9,
      "outputs": [
        {
          "output_type": "execute_result",
          "data": {
            "text/html": [
              "<div style=\"width:100%;\"><div style=\"position:relative;width:100%;height:0;padding-bottom:60%;\"><span style=\"color:#565656\">Make this Notebook Trusted to load map: File -> Trust Notebook</span><iframe src=\"about:blank\" style=\"position:absolute;width:100%;height:100%;left:0;top:0;border:none !important;\" data-html=PCFET0NUWVBFIGh0bWw+CjxoZWFkPiAgICAKICAgIDxtZXRhIGh0dHAtZXF1aXY9ImNvbnRlbnQtdHlwZSIgY29udGVudD0idGV4dC9odG1sOyBjaGFyc2V0PVVURi04IiAvPgogICAgPHNjcmlwdD5MX1BSRUZFUl9DQU5WQVM9ZmFsc2U7IExfTk9fVE9VQ0g9ZmFsc2U7IExfRElTQUJMRV8zRD1mYWxzZTs8L3NjcmlwdD4KICAgIDxzY3JpcHQgc3JjPSJodHRwczovL2Nkbi5qc2RlbGl2ci5uZXQvbnBtL2xlYWZsZXRAMS40LjAvZGlzdC9sZWFmbGV0LmpzIj48L3NjcmlwdD4KICAgIDxzY3JpcHQgc3JjPSJodHRwczovL2NvZGUuanF1ZXJ5LmNvbS9qcXVlcnktMS4xMi40Lm1pbi5qcyI+PC9zY3JpcHQ+CiAgICA8c2NyaXB0IHNyYz0iaHR0cHM6Ly9tYXhjZG4uYm9vdHN0cmFwY2RuLmNvbS9ib290c3RyYXAvMy4yLjAvanMvYm9vdHN0cmFwLm1pbi5qcyI+PC9zY3JpcHQ+CiAgICA8c2NyaXB0IHNyYz0iaHR0cHM6Ly9jZG5qcy5jbG91ZGZsYXJlLmNvbS9hamF4L2xpYnMvTGVhZmxldC5hd2Vzb21lLW1hcmtlcnMvMi4wLjIvbGVhZmxldC5hd2Vzb21lLW1hcmtlcnMuanMiPjwvc2NyaXB0PgogICAgPGxpbmsgcmVsPSJzdHlsZXNoZWV0IiBocmVmPSJodHRwczovL2Nkbi5qc2RlbGl2ci5uZXQvbnBtL2xlYWZsZXRAMS40LjAvZGlzdC9sZWFmbGV0LmNzcyIvPgogICAgPGxpbmsgcmVsPSJzdHlsZXNoZWV0IiBocmVmPSJodHRwczovL21heGNkbi5ib290c3RyYXBjZG4uY29tL2Jvb3RzdHJhcC8zLjIuMC9jc3MvYm9vdHN0cmFwLm1pbi5jc3MiLz4KICAgIDxsaW5rIHJlbD0ic3R5bGVzaGVldCIgaHJlZj0iaHR0cHM6Ly9tYXhjZG4uYm9vdHN0cmFwY2RuLmNvbS9ib290c3RyYXAvMy4yLjAvY3NzL2Jvb3RzdHJhcC10aGVtZS5taW4uY3NzIi8+CiAgICA8bGluayByZWw9InN0eWxlc2hlZXQiIGhyZWY9Imh0dHBzOi8vbWF4Y2RuLmJvb3RzdHJhcGNkbi5jb20vZm9udC1hd2Vzb21lLzQuNi4zL2Nzcy9mb250LWF3ZXNvbWUubWluLmNzcyIvPgogICAgPGxpbmsgcmVsPSJzdHlsZXNoZWV0IiBocmVmPSJodHRwczovL2NkbmpzLmNsb3VkZmxhcmUuY29tL2FqYXgvbGlicy9MZWFmbGV0LmF3ZXNvbWUtbWFya2Vycy8yLjAuMi9sZWFmbGV0LmF3ZXNvbWUtbWFya2Vycy5jc3MiLz4KICAgIDxsaW5rIHJlbD0ic3R5bGVzaGVldCIgaHJlZj0iaHR0cHM6Ly9yYXdjZG4uZ2l0aGFjay5jb20vcHl0aG9uLXZpc3VhbGl6YXRpb24vZm9saXVtL21hc3Rlci9mb2xpdW0vdGVtcGxhdGVzL2xlYWZsZXQuYXdlc29tZS5yb3RhdGUuY3NzIi8+CiAgICA8c3R5bGU+aHRtbCwgYm9keSB7d2lkdGg6IDEwMCU7aGVpZ2h0OiAxMDAlO21hcmdpbjogMDtwYWRkaW5nOiAwO308L3N0eWxlPgogICAgPHN0eWxlPiNtYXAge3Bvc2l0aW9uOmFic29sdXRlO3RvcDowO2JvdHRvbTowO3JpZ2h0OjA7bGVmdDowO308L3N0eWxlPgogICAgCiAgICA8bWV0YSBuYW1lPSJ2aWV3cG9ydCIgY29udGVudD0id2lkdGg9ZGV2aWNlLXdpZHRoLAogICAgICAgIGluaXRpYWwtc2NhbGU9MS4wLCBtYXhpbXVtLXNjYWxlPTEuMCwgdXNlci1zY2FsYWJsZT1ubyIgLz4KICAgIDxzdHlsZT4jbWFwX2M5N2Q2NWY0NjI5MDQ2MzBhNmJhNDA4NDgxZmU0ZmZlIHsKICAgICAgICBwb3NpdGlvbjogcmVsYXRpdmU7CiAgICAgICAgd2lkdGg6IDEwMC4wJTsKICAgICAgICBoZWlnaHQ6IDEwMC4wJTsKICAgICAgICBsZWZ0OiAwLjAlOwogICAgICAgIHRvcDogMC4wJTsKICAgICAgICB9CiAgICA8L3N0eWxlPgo8L2hlYWQ+Cjxib2R5PiAgICAKICAgIAogICAgPGRpdiBjbGFzcz0iZm9saXVtLW1hcCIgaWQ9Im1hcF9jOTdkNjVmNDYyOTA0NjMwYTZiYTQwODQ4MWZlNGZmZSIgPjwvZGl2Pgo8L2JvZHk+CjxzY3JpcHQ+ICAgIAogICAgCiAgICAKICAgICAgICB2YXIgYm91bmRzID0gbnVsbDsKICAgIAoKICAgIHZhciBtYXBfYzk3ZDY1ZjQ2MjkwNDYzMGE2YmE0MDg0ODFmZTRmZmUgPSBMLm1hcCgKICAgICAgICAnbWFwX2M5N2Q2NWY0NjI5MDQ2MzBhNmJhNDA4NDgxZmU0ZmZlJywgewogICAgICAgIGNlbnRlcjogWzM3Ljc2NDc1MjAyNDI3NDAyNCwgLTEuMDE5Njc2MDE5NjMwNTkxXSwKICAgICAgICB6b29tOiAxMCwKICAgICAgICBtYXhCb3VuZHM6IGJvdW5kcywKICAgICAgICBsYXllcnM6IFtdLAogICAgICAgIHdvcmxkQ29weUp1bXA6IGZhbHNlLAogICAgICAgIGNyczogTC5DUlMuRVBTRzM4NTcsCiAgICAgICAgem9vbUNvbnRyb2w6IHRydWUsCiAgICAgICAgfSk7CkwuY29udHJvbC5zY2FsZSgpLmFkZFRvKG1hcF9jOTdkNjVmNDYyOTA0NjMwYTZiYTQwODQ4MWZlNGZmZSk7CgogICAgCiAgICB2YXIgdGlsZV9sYXllcl8yNGJkMDI1NjI0MDk0ZThkOTE1YjEwNDA3MjY1YzhjYyA9IEwudGlsZUxheWVyKAogICAgICAgICdodHRwczovL3tzfS50aWxlLm9wZW5zdHJlZXRtYXAub3JnL3t6fS97eH0ve3l9LnBuZycsCiAgICAgICAgewogICAgICAgICJhdHRyaWJ1dGlvbiI6IG51bGwsCiAgICAgICAgImRldGVjdFJldGluYSI6IGZhbHNlLAogICAgICAgICJtYXhOYXRpdmVab29tIjogMTgsCiAgICAgICAgIm1heFpvb20iOiAxOCwKICAgICAgICAibWluWm9vbSI6IDAsCiAgICAgICAgIm5vV3JhcCI6IGZhbHNlLAogICAgICAgICJvcGFjaXR5IjogMSwKICAgICAgICAic3ViZG9tYWlucyI6ICJhYmMiLAogICAgICAgICJ0bXMiOiBmYWxzZQp9KS5hZGRUbyhtYXBfYzk3ZDY1ZjQ2MjkwNDYzMGE2YmE0MDg0ODFmZTRmZmUpOwogICAgdmFyIHRpbGVfbGF5ZXJfZDEyMDQ5ODQ3N2U5NDVhNmJjMDhlNjNlMjU3YWU5Y2UgPSBMLnRpbGVMYXllcigKICAgICAgICAnaHR0cDovL3tzfS5nb29nbGUuY29tL3Z0L2x5cnM9cyZ4PXt4fSZ5PXt5fSZ6PXt6fScsCiAgICAgICAgewogICAgICAgICJhdHRyaWJ1dGlvbiI6ICJHb29nbGUiLAogICAgICAgICJkZXRlY3RSZXRpbmEiOiBmYWxzZSwKICAgICAgICAibWF4TmF0aXZlWm9vbSI6IDIwLAogICAgICAgICJtYXhab29tIjogMjAsCiAgICAgICAgIm1pblpvb20iOiAwLAogICAgICAgICJub1dyYXAiOiBmYWxzZSwKICAgICAgICAib3BhY2l0eSI6IDEsCiAgICAgICAgInN1YmRvbWFpbnMiOiBbCiAgICAgICAgICAgICAgICAibXQwIiwKICAgICAgICAgICAgICAgICJtdDEiLAogICAgICAgICAgICAgICAgIm10MiIsCiAgICAgICAgICAgICAgICAibXQzIgogICAgICAgIF0sCiAgICAgICAgInRtcyI6IGZhbHNlCn0pLmFkZFRvKG1hcF9jOTdkNjVmNDYyOTA0NjMwYTZiYTQwODQ4MWZlNGZmZSk7CiAgICB2YXIgdGlsZV9sYXllcl8yZGQ2MzZhMTM2MGE0MWVjYTQ3ODE0ZWYyY2U5ZWUyMCA9IEwudGlsZUxheWVyKAogICAgICAgICdodHRwczovL2VhcnRoZW5naW5lLmdvb2dsZWFwaXMuY29tL3YxYWxwaGEvcHJvamVjdHMvZWFydGhlbmdpbmUtbGVnYWN5L21hcHMvMGU2OTFhNzg0YTdhODFmOTYzMWExYTkzYjcxYjdjYjctYThhZThiYjIwYjBjNjhhYjRmMjdmN2JjMDY4OTM2MzkvdGlsZXMve3p9L3t4fS97eX0nLAogICAgICAgIHsKICAgICAgICAiYXR0cmlidXRpb24iOiAiTWFwIERhdGEgJmNvcHk7IDxhIGhyZWY9XCJodHRwczovL2VhcnRoZW5naW5lLmdvb2dsZS5jb20vXCI+R29vZ2xlIEVhcnRoIEVuZ2luZTwvYT4iLAogICAgICAgICJkZXRlY3RSZXRpbmEiOiBmYWxzZSwKICAgICAgICAibWF4TmF0aXZlWm9vbSI6IDE4LAogICAgICAgICJtYXhab29tIjogMTgsCiAgICAgICAgIm1pblpvb20iOiAwLAogICAgICAgICJub1dyYXAiOiBmYWxzZSwKICAgICAgICAib3BhY2l0eSI6IDEsCiAgICAgICAgInN1YmRvbWFpbnMiOiAiYWJjIiwKICAgICAgICAidG1zIjogZmFsc2UKfSkuYWRkVG8obWFwX2M5N2Q2NWY0NjI5MDQ2MzBhNmJhNDA4NDgxZmU0ZmZlKTsKICAgIHZhciB0aWxlX2xheWVyX2Y4ZWUyMDk5MzU1MDRhZWNhMGZhM2QzNDc2MzU5YjExID0gTC50aWxlTGF5ZXIoCiAgICAgICAgJ2h0dHBzOi8vZWFydGhlbmdpbmUuZ29vZ2xlYXBpcy5jb20vdjFhbHBoYS9wcm9qZWN0cy9lYXJ0aGVuZ2luZS1sZWdhY3kvbWFwcy8wMmEwOWE2YWI1YjdlM2FmNGZhMzE3ZWNkNGU2YWFkOC1lZGQ4YWJjZTg5Njc1MDdiMDMzMjViN2M2MGZmMzMxOS90aWxlcy97en0ve3h9L3t5fScsCiAgICAgICAgewogICAgICAgICJhdHRyaWJ1dGlvbiI6ICJNYXAgRGF0YSAmY29weTsgPGEgaHJlZj1cImh0dHBzOi8vZWFydGhlbmdpbmUuZ29vZ2xlLmNvbS9cIj5Hb29nbGUgRWFydGggRW5naW5lPC9hPiIsCiAgICAgICAgImRldGVjdFJldGluYSI6IGZhbHNlLAogICAgICAgICJtYXhOYXRpdmVab29tIjogMTgsCiAgICAgICAgIm1heFpvb20iOiAxOCwKICAgICAgICAibWluWm9vbSI6IDAsCiAgICAgICAgIm5vV3JhcCI6IGZhbHNlLAogICAgICAgICJvcGFjaXR5IjogMSwKICAgICAgICAic3ViZG9tYWlucyI6ICJhYmMiLAogICAgICAgICJ0bXMiOiBmYWxzZQp9KS5hZGRUbyhtYXBfYzk3ZDY1ZjQ2MjkwNDYzMGE2YmE0MDg0ODFmZTRmZmUpOwogICAgdmFyIHRpbGVfbGF5ZXJfNDMzMzczMjRhZTEwNGFjNTkzMDg1ZjRkOTIxYmJjNjkgPSBMLnRpbGVMYXllcigKICAgICAgICAnaHR0cHM6Ly9lYXJ0aGVuZ2luZS5nb29nbGVhcGlzLmNvbS92MWFscGhhL3Byb2plY3RzL2VhcnRoZW5naW5lLWxlZ2FjeS9tYXBzL2UyNGViNDE4MGQzZDUwNzI3MDJmYzJkYTI2ZDRhZjc5LTMwMTVmMjFhYWExMjUzMzA0Y2JlMmUwYTQ3Y2IwZDM1L3RpbGVzL3t6fS97eH0ve3l9JywKICAgICAgICB7CiAgICAgICAgImF0dHJpYnV0aW9uIjogIk1hcCBEYXRhICZjb3B5OyA8YSBocmVmPVwiaHR0cHM6Ly9lYXJ0aGVuZ2luZS5nb29nbGUuY29tL1wiPkdvb2dsZSBFYXJ0aCBFbmdpbmU8L2E+IiwKICAgICAgICAiZGV0ZWN0UmV0aW5hIjogZmFsc2UsCiAgICAgICAgIm1heE5hdGl2ZVpvb20iOiAxOCwKICAgICAgICAibWF4Wm9vbSI6IDE4LAogICAgICAgICJtaW5ab29tIjogMCwKICAgICAgICAibm9XcmFwIjogZmFsc2UsCiAgICAgICAgIm9wYWNpdHkiOiAxLAogICAgICAgICJzdWJkb21haW5zIjogImFiYyIsCiAgICAgICAgInRtcyI6IGZhbHNlCn0pLmFkZFRvKG1hcF9jOTdkNjVmNDYyOTA0NjMwYTZiYTQwODQ4MWZlNGZmZSk7CiAgICB2YXIgdGlsZV9sYXllcl83MTY5M2E0NjQ1NTg0NTlkOWMwY2ZhNzhlN2QzOTMzYyA9IEwudGlsZUxheWVyKAogICAgICAgICdodHRwczovL2VhcnRoZW5naW5lLmdvb2dsZWFwaXMuY29tL3YxYWxwaGEvcHJvamVjdHMvZWFydGhlbmdpbmUtbGVnYWN5L21hcHMvMDY0NmFiMjgxOTQwNzc5MGExZDFmN2RjMThlZDkzZTMtOGM5MjI0NWQzMmY2MWEwNTUxMjEwZmJjOWFiY2Y1ZDQvdGlsZXMve3p9L3t4fS97eX0nLAogICAgICAgIHsKICAgICAgICAiYXR0cmlidXRpb24iOiAiTWFwIERhdGEgJmNvcHk7IDxhIGhyZWY9XCJodHRwczovL2VhcnRoZW5naW5lLmdvb2dsZS5jb20vXCI+R29vZ2xlIEVhcnRoIEVuZ2luZTwvYT4iLAogICAgICAgICJkZXRlY3RSZXRpbmEiOiBmYWxzZSwKICAgICAgICAibWF4TmF0aXZlWm9vbSI6IDE4LAogICAgICAgICJtYXhab29tIjogMTgsCiAgICAgICAgIm1pblpvb20iOiAwLAogICAgICAgICJub1dyYXAiOiBmYWxzZSwKICAgICAgICAib3BhY2l0eSI6IDEsCiAgICAgICAgInN1YmRvbWFpbnMiOiAiYWJjIiwKICAgICAgICAidG1zIjogZmFsc2UKfSkuYWRkVG8obWFwX2M5N2Q2NWY0NjI5MDQ2MzBhNmJhNDA4NDgxZmU0ZmZlKTsKICAgIHZhciB0aWxlX2xheWVyX2M0YjBkYzQ3MDg5ODQxMmRhNDUzYTUwYzg1YjZlMDliID0gTC50aWxlTGF5ZXIoCiAgICAgICAgJ2h0dHBzOi8vZWFydGhlbmdpbmUuZ29vZ2xlYXBpcy5jb20vdjFhbHBoYS9wcm9qZWN0cy9lYXJ0aGVuZ2luZS1sZWdhY3kvbWFwcy9lYmJkZTA3YjA1NDEzOTU4N2M5MWZhZWIxODlmMDFiMi05ODUzOWJmN2Y0NjI5NDljN2MyMTBjZmU3ZmQ2MTBhMC90aWxlcy97en0ve3h9L3t5fScsCiAgICAgICAgewogICAgICAgICJhdHRyaWJ1dGlvbiI6ICJNYXAgRGF0YSAmY29weTsgPGEgaHJlZj1cImh0dHBzOi8vZWFydGhlbmdpbmUuZ29vZ2xlLmNvbS9cIj5Hb29nbGUgRWFydGggRW5naW5lPC9hPiIsCiAgICAgICAgImRldGVjdFJldGluYSI6IGZhbHNlLAogICAgICAgICJtYXhOYXRpdmVab29tIjogMTgsCiAgICAgICAgIm1heFpvb20iOiAxOCwKICAgICAgICAibWluWm9vbSI6IDAsCiAgICAgICAgIm5vV3JhcCI6IGZhbHNlLAogICAgICAgICJvcGFjaXR5IjogMSwKICAgICAgICAic3ViZG9tYWlucyI6ICJhYmMiLAogICAgICAgICJ0bXMiOiBmYWxzZQp9KS5hZGRUbyhtYXBfYzk3ZDY1ZjQ2MjkwNDYzMGE2YmE0MDg0ODFmZTRmZmUpOwogICAgdmFyIHRpbGVfbGF5ZXJfMjg0NjIyYTE0NWU5NDU2NDgzMzZiODc0NzdjMjlhNzcgPSBMLnRpbGVMYXllcigKICAgICAgICAnaHR0cHM6Ly9lYXJ0aGVuZ2luZS5nb29nbGVhcGlzLmNvbS92MWFscGhhL3Byb2plY3RzL2VhcnRoZW5naW5lLWxlZ2FjeS9tYXBzLzM1MWY4OTJmZDM4ZWMyMzdiMjRmZmMxYTQ1ZGQ2M2EwLWVmZDRlYzNkMjU1MjMzNGZhYWY0Yzg2NWEyYTdhZGI5L3RpbGVzL3t6fS97eH0ve3l9JywKICAgICAgICB7CiAgICAgICAgImF0dHJpYnV0aW9uIjogIk1hcCBEYXRhICZjb3B5OyA8YSBocmVmPVwiaHR0cHM6Ly9lYXJ0aGVuZ2luZS5nb29nbGUuY29tL1wiPkdvb2dsZSBFYXJ0aCBFbmdpbmU8L2E+IiwKICAgICAgICAiZGV0ZWN0UmV0aW5hIjogZmFsc2UsCiAgICAgICAgIm1heE5hdGl2ZVpvb20iOiAxOCwKICAgICAgICAibWF4Wm9vbSI6IDE4LAogICAgICAgICJtaW5ab29tIjogMCwKICAgICAgICAibm9XcmFwIjogZmFsc2UsCiAgICAgICAgIm9wYWNpdHkiOiAxLAogICAgICAgICJzdWJkb21haW5zIjogImFiYyIsCiAgICAgICAgInRtcyI6IGZhbHNlCn0pLmFkZFRvKG1hcF9jOTdkNjVmNDYyOTA0NjMwYTZiYTQwODQ4MWZlNGZmZSk7CiAgICAKICAgICAgICAgICAgdmFyIGxheWVyX2NvbnRyb2xfNzExNDJkMWQ1YjMwNGE2OGFmZTQ3M2ZkNTA1ZDU2MWYgPSB7CiAgICAgICAgICAgICAgICBiYXNlX2xheWVycyA6IHsgIm9wZW5zdHJlZXRtYXAiIDogdGlsZV9sYXllcl8yNGJkMDI1NjI0MDk0ZThkOTE1YjEwNDA3MjY1YzhjYywgfSwKICAgICAgICAgICAgICAgIG92ZXJsYXlzIDogeyAiR29vZ2xlIFNhdCIgOiB0aWxlX2xheWVyX2QxMjA0OTg0NzdlOTQ1YTZiYzA4ZTYzZTI1N2FlOWNlLCJTdW1tZXIgRmVhdHVyZSBEYXRhIFJHQiIgOiB0aWxlX2xheWVyXzJkZDYzNmExMzYwYTQxZWNhNDc4MTRlZjJjZTllZTIwLCJXaW50ZXIgRmVhdHVyZSBEYXRhIFJHQiIgOiB0aWxlX2xheWVyX2Y4ZWUyMDk5MzU1MDRhZWNhMGZhM2QzNDc2MzU5YjExLCJTdW1tZXIgRmVhdHVyZSBEYXRhIE5EVkkgbWVkaWFuIiA6IHRpbGVfbGF5ZXJfNDMzMzczMjRhZTEwNGFjNTkzMDg1ZjRkOTIxYmJjNjksIldpbnRlciBGZWF0dXJlIERhdGEgTkRWSSBtZWRpYW4iIDogdGlsZV9sYXllcl83MTY5M2E0NjQ1NTg0NTlkOWMwY2ZhNzhlN2QzOTMzYywiU3VtbWVyIEZlYXR1cmUgRGF0YSBXR0kgc3RhbmRhcmQgZGV2aWF0aW9uIiA6IHRpbGVfbGF5ZXJfYzRiMGRjNDcwODk4NDEyZGE0NTNhNTBjODViNmUwOWIsIldpbnRlciBGZWF0dXJlIERhdGEgV0dJIHN0YW5kYXJkIGRldmlhdGlvbiIgOiB0aWxlX2xheWVyXzI4NDYyMmExNDVlOTQ1NjQ4MzM2Yjg3NDc3YzI5YTc3LCB9CiAgICAgICAgICAgICAgICB9OwogICAgICAgICAgICBMLmNvbnRyb2wubGF5ZXJzKAogICAgICAgICAgICAgICAgbGF5ZXJfY29udHJvbF83MTE0MmQxZDViMzA0YTY4YWZlNDczZmQ1MDVkNTYxZi5iYXNlX2xheWVycywKICAgICAgICAgICAgICAgIGxheWVyX2NvbnRyb2xfNzExNDJkMWQ1YjMwNGE2OGFmZTQ3M2ZkNTA1ZDU2MWYub3ZlcmxheXMsCiAgICAgICAgICAgICAgICB7cG9zaXRpb246ICd0b3ByaWdodCcsCiAgICAgICAgICAgICAgICAgY29sbGFwc2VkOiB0cnVlLAogICAgICAgICAgICAgICAgIGF1dG9aSW5kZXg6IHRydWUKICAgICAgICAgICAgICAgIH0pLmFkZFRvKG1hcF9jOTdkNjVmNDYyOTA0NjMwYTZiYTQwODQ4MWZlNGZmZSk7CiAgICAgICAgICAgIAogICAgICAgIAo8L3NjcmlwdD4= onload=\"this.contentDocument.open();this.contentDocument.write(atob(this.getAttribute('data-html')));this.contentDocument.close();\" allowfullscreen webkitallowfullscreen mozallowfullscreen></iframe></div></div>"
            ],
            "text/plain": [
              "<folium.folium.Map at 0x7f2dfc90a128>"
            ]
          },
          "metadata": {
            "tags": []
          },
          "execution_count": 9
        }
      ]
    },
    {
      "cell_type": "markdown",
      "metadata": {
        "id": "Up-_LzOOISDf",
        "colab_type": "text"
      },
      "source": [
        "#**Training Areas**\n",
        "\n",
        "Now that the feature data is generated, the next step in to create training areas for the Random Forest thresholding. To save you the task of manually selecting these areas, a system of automatically selecting training areas for classification has been applied. The system makes use of a priori knowledge of certain land vocer classes to select training sites via thresholding.\n",
        "\n",
        "Training sites for the following land cover classes will be generated: \n",
        "\n",
        "*   Forest\n",
        "*   Scrubs\n",
        "*   Rainfed Crops and Trees\n",
        "*   Greenhouses\n",
        "*   Irrigated Herbaceous Crops\n",
        "*   Irrigated Perennial Trees\n",
        "*   Water Bodies\n",
        "*   Unproductive Areas (Urban/Fallow Lands)\n",
        "\n",
        "By running the code block below the generation of training sites will be started. Again this may take a couple of minutes, a confirmation message will appear when the process is completed."
      ]
    },
    {
      "cell_type": "code",
      "metadata": {
        "id": "4WPEzdfnhagZ",
        "colab_type": "code",
        "outputId": "e0878f54-7e9d-4eec-8cc3-f512608da230",
        "colab": {
          "base_uri": "https://localhost:8080/",
          "height": 53
        }
      },
      "source": [
        "for year in classification_period:\n",
        "  for season in ['winter', 'summer']:\n",
        "    export_training_areas_task = create_training_areas(\n",
        "          aoi,\n",
        "          ee.Image(f\"{crop_data_folder}crop_data_{season}_{area_of_interest}_{year}\"),\n",
        "          aoi_name=area_of_interest,\n",
        "          year_string=year,\n",
        "          season=season,\n",
        "          )\n",
        "  track_task(export_training_areas_task)  # tracks the export task"
      ],
      "execution_count": 10,
      "outputs": [
        {
          "output_type": "stream",
          "text": [
            "asset already exists\n",
            "asset already exists\n"
          ],
          "name": "stdout"
        }
      ]
    },
    {
      "cell_type": "markdown",
      "metadata": {
        "id": "ExE_uSXEIffc",
        "colab_type": "text"
      },
      "source": [
        "If you've reached this point, the generation of training areas should have been completed. Run the code block below to see the results. "
      ]
    },
    {
      "cell_type": "code",
      "metadata": {
        "id": "-Uavvn41Vh4P",
        "colab_type": "code",
        "outputId": "342ddfdc-45e8-447c-9742-128d55cc2078",
        "colab": {
          "base_uri": "https://localhost:8080/",
          "height": 863
        }
      },
      "source": [
        "training_classes = {\n",
        "    0:'Unused',\n",
        "    1:'Forest',\n",
        "    2:'Scrubs',\n",
        "    3:'Rainfed Crops and Trees',\n",
        "    4:'Greenhouses',\n",
        "    5:'Irrigated Herbaceous Crops',\n",
        "    6:'Irrigated Trees',\n",
        "    7:'Water Bodies',\n",
        "    8:'Urban/Fallow lands'\n",
        "}\n",
        "\n",
        "summer_training = ee.Image(f'{training_data_folder}training_areas_summer_{area_of_interest}_{year}')\n",
        "winter_training = ee.Image(f'{training_data_folder}training_areas_winter_{area_of_interest}_{year}')\n",
        "images_training = {\n",
        "      'Summer Feature Training Areas': summer_training.getMapId(visualization.vis_rf_classification(band='training')),\n",
        "      'Winter Feature Training Areas': winter_training.getMapId(visualization.vis_rf_classification(band='training')) \n",
        "  }\n",
        "map = visualization.create_folium_map(images_training, coords=[aoi_centroid[1], aoi_centroid[0]], zoom=10, height='100%')\n",
        "visualization.create_categorical_legend(map, visualization.vis_rf_classification()['palette'], training_classes)\n",
        "map"
      ],
      "execution_count": 11,
      "outputs": [
        {
          "output_type": "execute_result",
          "data": {
            "text/html": [
              "<div style=\"width:100%;\"><div style=\"position:relative;width:100%;height:0;padding-bottom:60%;\"><span style=\"color:#565656\">Make this Notebook Trusted to load map: File -> Trust Notebook</span><iframe src=\"about:blank\" style=\"position:absolute;width:100%;height:100%;left:0;top:0;border:none !important;\" data-html=PCFET0NUWVBFIGh0bWw+CjxoZWFkPiAgICAKICAgIDxtZXRhIGh0dHAtZXF1aXY9ImNvbnRlbnQtdHlwZSIgY29udGVudD0idGV4dC9odG1sOyBjaGFyc2V0PVVURi04IiAvPgogICAgPHNjcmlwdD5MX1BSRUZFUl9DQU5WQVM9ZmFsc2U7IExfTk9fVE9VQ0g9ZmFsc2U7IExfRElTQUJMRV8zRD1mYWxzZTs8L3NjcmlwdD4KICAgIDxzY3JpcHQgc3JjPSJodHRwczovL2Nkbi5qc2RlbGl2ci5uZXQvbnBtL2xlYWZsZXRAMS40LjAvZGlzdC9sZWFmbGV0LmpzIj48L3NjcmlwdD4KICAgIDxzY3JpcHQgc3JjPSJodHRwczovL2NvZGUuanF1ZXJ5LmNvbS9qcXVlcnktMS4xMi40Lm1pbi5qcyI+PC9zY3JpcHQ+CiAgICA8c2NyaXB0IHNyYz0iaHR0cHM6Ly9tYXhjZG4uYm9vdHN0cmFwY2RuLmNvbS9ib290c3RyYXAvMy4yLjAvanMvYm9vdHN0cmFwLm1pbi5qcyI+PC9zY3JpcHQ+CiAgICA8c2NyaXB0IHNyYz0iaHR0cHM6Ly9jZG5qcy5jbG91ZGZsYXJlLmNvbS9hamF4L2xpYnMvTGVhZmxldC5hd2Vzb21lLW1hcmtlcnMvMi4wLjIvbGVhZmxldC5hd2Vzb21lLW1hcmtlcnMuanMiPjwvc2NyaXB0PgogICAgPGxpbmsgcmVsPSJzdHlsZXNoZWV0IiBocmVmPSJodHRwczovL2Nkbi5qc2RlbGl2ci5uZXQvbnBtL2xlYWZsZXRAMS40LjAvZGlzdC9sZWFmbGV0LmNzcyIvPgogICAgPGxpbmsgcmVsPSJzdHlsZXNoZWV0IiBocmVmPSJodHRwczovL21heGNkbi5ib290c3RyYXBjZG4uY29tL2Jvb3RzdHJhcC8zLjIuMC9jc3MvYm9vdHN0cmFwLm1pbi5jc3MiLz4KICAgIDxsaW5rIHJlbD0ic3R5bGVzaGVldCIgaHJlZj0iaHR0cHM6Ly9tYXhjZG4uYm9vdHN0cmFwY2RuLmNvbS9ib290c3RyYXAvMy4yLjAvY3NzL2Jvb3RzdHJhcC10aGVtZS5taW4uY3NzIi8+CiAgICA8bGluayByZWw9InN0eWxlc2hlZXQiIGhyZWY9Imh0dHBzOi8vbWF4Y2RuLmJvb3RzdHJhcGNkbi5jb20vZm9udC1hd2Vzb21lLzQuNi4zL2Nzcy9mb250LWF3ZXNvbWUubWluLmNzcyIvPgogICAgPGxpbmsgcmVsPSJzdHlsZXNoZWV0IiBocmVmPSJodHRwczovL2NkbmpzLmNsb3VkZmxhcmUuY29tL2FqYXgvbGlicy9MZWFmbGV0LmF3ZXNvbWUtbWFya2Vycy8yLjAuMi9sZWFmbGV0LmF3ZXNvbWUtbWFya2Vycy5jc3MiLz4KICAgIDxsaW5rIHJlbD0ic3R5bGVzaGVldCIgaHJlZj0iaHR0cHM6Ly9yYXdjZG4uZ2l0aGFjay5jb20vcHl0aG9uLXZpc3VhbGl6YXRpb24vZm9saXVtL21hc3Rlci9mb2xpdW0vdGVtcGxhdGVzL2xlYWZsZXQuYXdlc29tZS5yb3RhdGUuY3NzIi8+CiAgICA8c3R5bGU+aHRtbCwgYm9keSB7d2lkdGg6IDEwMCU7aGVpZ2h0OiAxMDAlO21hcmdpbjogMDtwYWRkaW5nOiAwO308L3N0eWxlPgogICAgPHN0eWxlPiNtYXAge3Bvc2l0aW9uOmFic29sdXRlO3RvcDowO2JvdHRvbTowO3JpZ2h0OjA7bGVmdDowO308L3N0eWxlPgogICAgCiAgICA8bWV0YSBuYW1lPSJ2aWV3cG9ydCIgY29udGVudD0id2lkdGg9ZGV2aWNlLXdpZHRoLAogICAgICAgIGluaXRpYWwtc2NhbGU9MS4wLCBtYXhpbXVtLXNjYWxlPTEuMCwgdXNlci1zY2FsYWJsZT1ubyIgLz4KICAgIDxzdHlsZT4jbWFwXzBiZDQ1OGQwN2U3NTRkNGM5MGM4NzQ3YjU5OWE1ZWU1IHsKICAgICAgICBwb3NpdGlvbjogcmVsYXRpdmU7CiAgICAgICAgd2lkdGg6IDEwMC4wJTsKICAgICAgICBoZWlnaHQ6IDEwMC4wJTsKICAgICAgICBsZWZ0OiAwLjAlOwogICAgICAgIHRvcDogMC4wJTsKICAgICAgICB9CiAgICA8L3N0eWxlPgo8L2hlYWQ+Cjxib2R5PiAgICAKICAgIAogICAgPGRpdiBjbGFzcz0iZm9saXVtLW1hcCIgaWQ9Im1hcF8wYmQ0NThkMDdlNzU0ZDRjOTBjODc0N2I1OTlhNWVlNSIgPjwvZGl2PgogICAgCgogICAgPCFkb2N0eXBlIGh0bWw+CiAgICA8aHRtbCBsYW5nPSJlbiI+CiAgICA8aGVhZD4KICAgICAgPG1ldGEgY2hhcnNldD0idXRmLTgiPgogICAgICA8bWV0YSBuYW1lPSJ2aWV3cG9ydCIgY29udGVudD0id2lkdGg9ZGV2aWNlLXdpZHRoLCBpbml0aWFsLXNjYWxlPTEiPgogICAgICA8dGl0bGU+alF1ZXJ5IFVJIERyYWdnYWJsZSAtIERlZmF1bHQgZnVuY3Rpb25hbGl0eTwvdGl0bGU+CiAgICAgIDxsaW5rIHJlbD0ic3R5bGVzaGVldCIgaHJlZj0iLy9jb2RlLmpxdWVyeS5jb20vdWkvMS4xMi4xL3RoZW1lcy9iYXNlL2pxdWVyeS11aS5jc3MiPgoKICAgICAgPHNjcmlwdCBzcmM9Imh0dHBzOi8vY29kZS5qcXVlcnkuY29tL2pxdWVyeS0xLjEyLjQuanMiPjwvc2NyaXB0PgogICAgICA8c2NyaXB0IHNyYz0iaHR0cHM6Ly9jb2RlLmpxdWVyeS5jb20vdWkvMS4xMi4xL2pxdWVyeS11aS5qcyI+PC9zY3JpcHQ+CgogICAgICA8c2NyaXB0PgogICAgICAkKCBmdW5jdGlvbigpIHsKICAgICAgICAkKCAiI21hcGxlZ2VuZCIgKS5kcmFnZ2FibGUoewogICAgICAgICAgICAgICAgICAgICAgICBzdGFydDogZnVuY3Rpb24gKGV2ZW50LCB1aSkgewogICAgICAgICAgICAgICAgICAgICAgICAgICAgJCh0aGlzKS5jc3MoewogICAgICAgICAgICAgICAgICAgICAgICAgICAgICAgIHJpZ2h0OiAiYXV0byIsCiAgICAgICAgICAgICAgICAgICAgICAgICAgICAgICAgdG9wOiAiYXV0byIsCiAgICAgICAgICAgICAgICAgICAgICAgICAgICAgICAgYm90dG9tOiAiYXV0byIKICAgICAgICAgICAgICAgICAgICAgICAgICAgIH0pOwogICAgICAgICAgICAgICAgICAgICAgICB9CiAgICAgICAgICAgICAgICAgICAgfSk7CiAgICB9KTsKCiAgICAgIDwvc2NyaXB0PgogICAgPC9oZWFkPgogICAgPGJvZHk+CiAgICAKICAgIDxkaXYgaWQ9J21hcGxlZ2VuZCcgY2xhc3M9J21hcGxlZ2VuZCcgCiAgICAgICAgc3R5bGU9J3Bvc2l0aW9uOiBhYnNvbHV0ZTsgei1pbmRleDo5OTk5OyBib3JkZXI6MnB4IHNvbGlkIGdyZXk7IGJhY2tncm91bmQtY29sb3I6cmdiYSgyNTUsIDI1NSwgMjU1LCAwLjgpOwogICAgICAgICBib3JkZXItcmFkaXVzOjZweDsgcGFkZGluZzogMTBweDsgZm9udC1zaXplOjE0cHg7IHJpZ2h0OiAyMHB4OyBib3R0b206IDIwcHg7Jz4KCiAgICA8ZGl2IGNsYXNzPSdsZWdlbmQtdGl0bGUnPkxlZ2VuZDwvZGl2PgogICAgPGRpdiBjbGFzcz0nbGVnZW5kLXNjYWxlJz4KICAgICAgPHVsIGNsYXNzPSdsZWdlbmQtbGFiZWxzJz4KICAgICAgICA8bGk+PHNwYW4gc3R5bGU9J2JhY2tncm91bmQ6I0ZGRkZGRjtvcGFjaXR5OjAuODU7Jz48L3NwYW4+VW51c2VkPC9saT48bGk+PHNwYW4gc3R5bGU9J2JhY2tncm91bmQ6IzAwOTYwMDtvcGFjaXR5OjAuODU7Jz48L3NwYW4+Rm9yZXN0PC9saT48bGk+PHNwYW4gc3R5bGU9J2JhY2tncm91bmQ6IzgyNEIzMjtvcGFjaXR5OjAuODU7Jz48L3NwYW4+U2NydWJzPC9saT48bGk+PHNwYW4gc3R5bGU9J2JhY2tncm91bmQ6I0Y1RDdBNTtvcGFjaXR5OjAuODU7Jz48L3NwYW4+UmFpbmZlZCBDcm9wcyBhbmQgVHJlZXM8L2xpPjxsaT48c3BhbiBzdHlsZT0nYmFja2dyb3VuZDojRkFGQTA1O29wYWNpdHk6MC44NTsnPjwvc3Bhbj5HcmVlbmhvdXNlczwvbGk+PGxpPjxzcGFuIHN0eWxlPSdiYWNrZ3JvdW5kOiM2NDY0RkU7b3BhY2l0eTowLjg1Oyc+PC9zcGFuPklycmlnYXRlZCBIZXJiYWNlb3VzIENyb3BzPC9saT48bGk+PHNwYW4gc3R5bGU9J2JhY2tncm91bmQ6IzY0QzNGRjtvcGFjaXR5OjAuODU7Jz48L3NwYW4+SXJyaWdhdGVkIFRyZWVzPC9saT48bGk+PHNwYW4gc3R5bGU9J2JhY2tncm91bmQ6IzAwMDA4YjtvcGFjaXR5OjAuODU7Jz48L3NwYW4+V2F0ZXIgQm9kaWVzPC9saT48bGk+PHNwYW4gc3R5bGU9J2JhY2tncm91bmQ6I0FBMEY2RTtvcGFjaXR5OjAuODU7Jz48L3NwYW4+VXJiYW4vRmFsbG93IGxhbmRzPC9saT4KICAgICAgPC91bD4KICAgIDwvZGl2PgogICAgPC9kaXY+CgogICAgPC9ib2R5PgogICAgPC9odG1sPgogICAgCiAgICA8c3R5bGUgdHlwZT0ndGV4dC9jc3MnPgogICAgICAubWFwbGVnZW5kIC5sZWdlbmQtdGl0bGUgewogICAgICAgIHRleHQtYWxpZ246IGxlZnQ7CiAgICAgICAgbWFyZ2luLWJvdHRvbTogNXB4OwogICAgICAgIGZvbnQtd2VpZ2h0OiBib2xkOwogICAgICAgIGZvbnQtc2l6ZTogOTAlOwogICAgICAgIH0KICAgICAgLm1hcGxlZ2VuZCAubGVnZW5kLXNjYWxlIHVsIHsKICAgICAgICBtYXJnaW46IDA7CiAgICAgICAgbWFyZ2luLWJvdHRvbTogNXB4OwogICAgICAgIHBhZGRpbmc6IDA7CiAgICAgICAgZmxvYXQ6IGxlZnQ7CiAgICAgICAgbGlzdC1zdHlsZTogbm9uZTsKICAgICAgICB9CiAgICAgIC5tYXBsZWdlbmQgLmxlZ2VuZC1zY2FsZSB1bCBsaSB7CiAgICAgICAgZm9udC1zaXplOiA4MCU7CiAgICAgICAgbGlzdC1zdHlsZTogbm9uZTsKICAgICAgICBtYXJnaW4tbGVmdDogMDsKICAgICAgICBsaW5lLWhlaWdodDogMThweDsKICAgICAgICBtYXJnaW4tYm90dG9tOiAycHg7CiAgICAgICAgfQogICAgICAubWFwbGVnZW5kIHVsLmxlZ2VuZC1sYWJlbHMgbGkgc3BhbiB7CiAgICAgICAgZGlzcGxheTogYmxvY2s7CiAgICAgICAgZmxvYXQ6IGxlZnQ7CiAgICAgICAgaGVpZ2h0OiAxNnB4OwogICAgICAgIHdpZHRoOiAzMHB4OwogICAgICAgIG1hcmdpbi1yaWdodDogNXB4OwogICAgICAgIG1hcmdpbi1sZWZ0OiAwOwogICAgICAgIGJvcmRlcjogMXB4IHNvbGlkICM5OTk7CiAgICAgICAgfQogICAgICAubWFwbGVnZW5kIC5sZWdlbmQtc291cmNlIHsKICAgICAgICBmb250LXNpemU6IDgwJTsKICAgICAgICBjb2xvcjogIzc3NzsKICAgICAgICBjbGVhcjogYm90aDsKICAgICAgICB9CiAgICAgIC5tYXBsZWdlbmQgYSB7CiAgICAgICAgY29sb3I6ICM3Nzc7CiAgICAgICAgfQogICAgPC9zdHlsZT4KICAgIAo8L2JvZHk+CjxzY3JpcHQ+ICAgIAogICAgCiAgICAKICAgICAgICB2YXIgYm91bmRzID0gbnVsbDsKICAgIAoKICAgIHZhciBtYXBfMGJkNDU4ZDA3ZTc1NGQ0YzkwYzg3NDdiNTk5YTVlZTUgPSBMLm1hcCgKICAgICAgICAnbWFwXzBiZDQ1OGQwN2U3NTRkNGM5MGM4NzQ3YjU5OWE1ZWU1JywgewogICAgICAgIGNlbnRlcjogWzM3Ljc2NDc1MjAyNDI3NDAyNCwgLTEuMDE5Njc2MDE5NjMwNTkxXSwKICAgICAgICB6b29tOiAxMCwKICAgICAgICBtYXhCb3VuZHM6IGJvdW5kcywKICAgICAgICBsYXllcnM6IFtdLAogICAgICAgIHdvcmxkQ29weUp1bXA6IGZhbHNlLAogICAgICAgIGNyczogTC5DUlMuRVBTRzM4NTcsCiAgICAgICAgem9vbUNvbnRyb2w6IHRydWUsCiAgICAgICAgfSk7CkwuY29udHJvbC5zY2FsZSgpLmFkZFRvKG1hcF8wYmQ0NThkMDdlNzU0ZDRjOTBjODc0N2I1OTlhNWVlNSk7CgogICAgCiAgICB2YXIgdGlsZV9sYXllcl9hMzA0MGRlZmZhOTI0YTc5OWIwMjg0MjI3MzA1MGM4NCA9IEwudGlsZUxheWVyKAogICAgICAgICdodHRwczovL3tzfS50aWxlLm9wZW5zdHJlZXRtYXAub3JnL3t6fS97eH0ve3l9LnBuZycsCiAgICAgICAgewogICAgICAgICJhdHRyaWJ1dGlvbiI6IG51bGwsCiAgICAgICAgImRldGVjdFJldGluYSI6IGZhbHNlLAogICAgICAgICJtYXhOYXRpdmVab29tIjogMTgsCiAgICAgICAgIm1heFpvb20iOiAxOCwKICAgICAgICAibWluWm9vbSI6IDAsCiAgICAgICAgIm5vV3JhcCI6IGZhbHNlLAogICAgICAgICJvcGFjaXR5IjogMSwKICAgICAgICAic3ViZG9tYWlucyI6ICJhYmMiLAogICAgICAgICJ0bXMiOiBmYWxzZQp9KS5hZGRUbyhtYXBfMGJkNDU4ZDA3ZTc1NGQ0YzkwYzg3NDdiNTk5YTVlZTUpOwogICAgdmFyIHRpbGVfbGF5ZXJfYTQxZWIxNzE0MGQwNDE0ZTgzNGYwNjQwZGJlODg1NDUgPSBMLnRpbGVMYXllcigKICAgICAgICAnaHR0cDovL3tzfS5nb29nbGUuY29tL3Z0L2x5cnM9cyZ4PXt4fSZ5PXt5fSZ6PXt6fScsCiAgICAgICAgewogICAgICAgICJhdHRyaWJ1dGlvbiI6ICJHb29nbGUiLAogICAgICAgICJkZXRlY3RSZXRpbmEiOiBmYWxzZSwKICAgICAgICAibWF4TmF0aXZlWm9vbSI6IDIwLAogICAgICAgICJtYXhab29tIjogMjAsCiAgICAgICAgIm1pblpvb20iOiAwLAogICAgICAgICJub1dyYXAiOiBmYWxzZSwKICAgICAgICAib3BhY2l0eSI6IDEsCiAgICAgICAgInN1YmRvbWFpbnMiOiBbCiAgICAgICAgICAgICAgICAibXQwIiwKICAgICAgICAgICAgICAgICJtdDEiLAogICAgICAgICAgICAgICAgIm10MiIsCiAgICAgICAgICAgICAgICAibXQzIgogICAgICAgIF0sCiAgICAgICAgInRtcyI6IGZhbHNlCn0pLmFkZFRvKG1hcF8wYmQ0NThkMDdlNzU0ZDRjOTBjODc0N2I1OTlhNWVlNSk7CiAgICB2YXIgdGlsZV9sYXllcl8xZjRjZDUzOTM1ZWE0NzkxYWE5YmUyY2Y5MmFmMDgwZiA9IEwudGlsZUxheWVyKAogICAgICAgICdodHRwczovL2VhcnRoZW5naW5lLmdvb2dsZWFwaXMuY29tL3YxYWxwaGEvcHJvamVjdHMvZWFydGhlbmdpbmUtbGVnYWN5L21hcHMvM2EzMWI3NzVjYjk1NTRkZDQzZTdlZjlhZDU3ZWViNWUtM2NjOGRhOGI4MGQ4ZTlhZmM3NDIyZjA0ZjhmMjUzNTAvdGlsZXMve3p9L3t4fS97eX0nLAogICAgICAgIHsKICAgICAgICAiYXR0cmlidXRpb24iOiAiTWFwIERhdGEgJmNvcHk7IDxhIGhyZWY9XCJodHRwczovL2VhcnRoZW5naW5lLmdvb2dsZS5jb20vXCI+R29vZ2xlIEVhcnRoIEVuZ2luZTwvYT4iLAogICAgICAgICJkZXRlY3RSZXRpbmEiOiBmYWxzZSwKICAgICAgICAibWF4TmF0aXZlWm9vbSI6IDE4LAogICAgICAgICJtYXhab29tIjogMTgsCiAgICAgICAgIm1pblpvb20iOiAwLAogICAgICAgICJub1dyYXAiOiBmYWxzZSwKICAgICAgICAib3BhY2l0eSI6IDEsCiAgICAgICAgInN1YmRvbWFpbnMiOiAiYWJjIiwKICAgICAgICAidG1zIjogZmFsc2UKfSkuYWRkVG8obWFwXzBiZDQ1OGQwN2U3NTRkNGM5MGM4NzQ3YjU5OWE1ZWU1KTsKICAgIHZhciB0aWxlX2xheWVyX2I1ZTlhMDZkZGJiZTRhYjE4ZTY5ZDI2NmQ0OTg4ODg3ID0gTC50aWxlTGF5ZXIoCiAgICAgICAgJ2h0dHBzOi8vZWFydGhlbmdpbmUuZ29vZ2xlYXBpcy5jb20vdjFhbHBoYS9wcm9qZWN0cy9lYXJ0aGVuZ2luZS1sZWdhY3kvbWFwcy83YWFkZjU2N2I4YjE1MjIyMzZkNTE1ZjU1NGQwMDIzYS1lY2Q2MzFkODJmZDFlMzA1ZTNmOWEzNmYyNzdlOGMxOC90aWxlcy97en0ve3h9L3t5fScsCiAgICAgICAgewogICAgICAgICJhdHRyaWJ1dGlvbiI6ICJNYXAgRGF0YSAmY29weTsgPGEgaHJlZj1cImh0dHBzOi8vZWFydGhlbmdpbmUuZ29vZ2xlLmNvbS9cIj5Hb29nbGUgRWFydGggRW5naW5lPC9hPiIsCiAgICAgICAgImRldGVjdFJldGluYSI6IGZhbHNlLAogICAgICAgICJtYXhOYXRpdmVab29tIjogMTgsCiAgICAgICAgIm1heFpvb20iOiAxOCwKICAgICAgICAibWluWm9vbSI6IDAsCiAgICAgICAgIm5vV3JhcCI6IGZhbHNlLAogICAgICAgICJvcGFjaXR5IjogMSwKICAgICAgICAic3ViZG9tYWlucyI6ICJhYmMiLAogICAgICAgICJ0bXMiOiBmYWxzZQp9KS5hZGRUbyhtYXBfMGJkNDU4ZDA3ZTc1NGQ0YzkwYzg3NDdiNTk5YTVlZTUpOwogICAgCiAgICAgICAgICAgIHZhciBsYXllcl9jb250cm9sX2NjNjkyZWU1NDI0NTQ2NDU5M2ZiY2E3ZTdkODE3MzI4ID0gewogICAgICAgICAgICAgICAgYmFzZV9sYXllcnMgOiB7ICJvcGVuc3RyZWV0bWFwIiA6IHRpbGVfbGF5ZXJfYTMwNDBkZWZmYTkyNGE3OTliMDI4NDIyNzMwNTBjODQsIH0sCiAgICAgICAgICAgICAgICBvdmVybGF5cyA6IHsgIkdvb2dsZSBTYXQiIDogdGlsZV9sYXllcl9hNDFlYjE3MTQwZDA0MTRlODM0ZjA2NDBkYmU4ODU0NSwiU3VtbWVyIEZlYXR1cmUgVHJhaW5pbmcgQXJlYXMiIDogdGlsZV9sYXllcl8xZjRjZDUzOTM1ZWE0NzkxYWE5YmUyY2Y5MmFmMDgwZiwiV2ludGVyIEZlYXR1cmUgVHJhaW5pbmcgQXJlYXMiIDogdGlsZV9sYXllcl9iNWU5YTA2ZGRiYmU0YWIxOGU2OWQyNjZkNDk4ODg4NywgfQogICAgICAgICAgICAgICAgfTsKICAgICAgICAgICAgTC5jb250cm9sLmxheWVycygKICAgICAgICAgICAgICAgIGxheWVyX2NvbnRyb2xfY2M2OTJlZTU0MjQ1NDY0NTkzZmJjYTdlN2Q4MTczMjguYmFzZV9sYXllcnMsCiAgICAgICAgICAgICAgICBsYXllcl9jb250cm9sX2NjNjkyZWU1NDI0NTQ2NDU5M2ZiY2E3ZTdkODE3MzI4Lm92ZXJsYXlzLAogICAgICAgICAgICAgICAge3Bvc2l0aW9uOiAndG9wcmlnaHQnLAogICAgICAgICAgICAgICAgIGNvbGxhcHNlZDogdHJ1ZSwKICAgICAgICAgICAgICAgICBhdXRvWkluZGV4OiB0cnVlCiAgICAgICAgICAgICAgICB9KS5hZGRUbyhtYXBfMGJkNDU4ZDA3ZTc1NGQ0YzkwYzg3NDdiNTk5YTVlZTUpOwogICAgICAgICAgICAKICAgICAgICAKPC9zY3JpcHQ+ onload=\"this.contentDocument.open();this.contentDocument.write(atob(this.getAttribute('data-html')));this.contentDocument.close();\" allowfullscreen webkitallowfullscreen mozallowfullscreen></iframe></div></div>"
            ],
            "text/plain": [
              "<folium.folium.Map at 0x7f2dfc2fa400>"
            ]
          },
          "metadata": {
            "tags": []
          },
          "execution_count": 11
        }
      ]
    },
    {
      "cell_type": "markdown",
      "metadata": {
        "id": "4nsBPndrIpPr",
        "colab_type": "text"
      },
      "source": [
        "# **Classification**\n",
        "\n",
        "Now that the traininig sites and feature data are generated, we can finally move on to the classification. The classification is performed usin a Random Forest classifier, for which the following parameters can be set: \n",
        "\n",
        "*  The Number of Trees - *no_trees*\n",
        "*  The Number of Variables per Split - *vps*\n",
        "*  The Bagging Fraction - *bf*\n",
        "*  Minimum Number of Training Points - *min_tp*\n",
        "*  Maximum Number of Training Points - *max_tp*\n",
        "\n",
        "Run the code below to start the classification. As before, this make take some time. Also, the time it takes for classification to complete is influences by the number of trees and training points specified, the lower the number the quicker the classification. \n"
      ]
    },
    {
      "cell_type": "code",
      "metadata": {
        "id": "C_AlNkL_hadR",
        "colab_type": "code",
        "outputId": "33369a8f-13b4-4fcd-f76e-2ccc4d04e3cd",
        "cellView": "form",
        "colab": {
          "base_uri": "https://localhost:8080/",
          "height": 72
        }
      },
      "source": [
        "#@markdown ---\n",
        "#@title ### Classification Parameters\n",
        "#@markdown ### Number of Trees\n",
        "no_trees = 250 #@param {type:\"slider\", min:0, max:500, step:10}\n",
        "#@markdown ### Variables per Split\n",
        "vps = 5 #@param {type:\"slider\", min:2, max:10, step:1}\n",
        "#@markdown ### Bagging Fraction\n",
        "bf = 0.65 #@param {type:\"slider\", min:0, max:1, step:0.05}\n",
        "#@markdown ### Minimum Number of Training Points\n",
        "min_tp = 1000 #@param {type:\"slider\", min:100, max:5000, step:100}\n",
        "#@markdown ### Maximum Number of Training Points\n",
        "max_tp = 10000 #@param {type:\"slider\", min:5000, max:75000, step:1000}\n",
        "\n",
        "for year in classification_period:\n",
        "  for season in ['winter', 'summer']:\n",
        "    for combo in stats_combos:\n",
        "      # load the feature data maps\n",
        "      crop_data_image = ee.Image(f\"{crop_data_folder}crop_data_{season}_{area_of_interest}_{year}\")\n",
        "      bands_to_select = ['red', 'green', 'blue', 'nir', 'swir1','.*std.*', 'TWI']\n",
        "      stat_bands = [f'.*{s}.*' for s in list(combo)]\n",
        "      bands_to_select += stat_bands # bands to select for classification\n",
        "      crop_data_image = crop_data_image.select(bands_to_select)\n",
        "      classification_name = \"_\".join(combo)\n",
        "      classification_name += f'_{season}'\n",
        "                  \n",
        "      training_image = ee.Image(\n",
        "      f'{GEE_USER_PATH}/ia_classification/raster/training_areas/{area_of_interest}/training_areas_{season}_{area_of_interest}_{year}')\n",
        "      classification_task = classify_irrigated_areas(\n",
        "      crop_data_image,\n",
        "      training_image,\n",
        "      aoi,\n",
        "      classification_name,\n",
        "      aoi_name=area_of_interest,\n",
        "      year=year,\n",
        "      clf='random_forest',\n",
        "      no_trees=no_trees,\n",
        "      bag_fraction=bf,\n",
        "      vps=vps,\n",
        "      min_tp=min_tp,\n",
        "      max_tp=max_tp\n",
        "      )      \n",
        "track_task(classification_task)"
      ],
      "execution_count": 12,
      "outputs": [
        {
          "output_type": "stream",
          "text": [
            "asset already exists\n",
            "asset already exists\n"
          ],
          "name": "stdout"
        },
        {
          "output_type": "execute_result",
          "data": {
            "text/plain": [
              "True"
            ]
          },
          "metadata": {
            "tags": []
          },
          "execution_count": 12
        }
      ]
    },
    {
      "cell_type": "markdown",
      "metadata": {
        "id": "MCPUc3jjJ5JE",
        "colab_type": "text"
      },
      "source": [
        "Now that the classification has been completed, the results can be inspected \n",
        "using a folium map. "
      ]
    },
    {
      "cell_type": "code",
      "metadata": {
        "id": "YT2Ms6cKfzKT",
        "colab_type": "code",
        "outputId": "066bc140-fc27-4364-f9cb-58cbfa369d6e",
        "colab": {
          "base_uri": "https://localhost:8080/",
          "height": 863
        }
      },
      "source": [
        "summer_clf = ee.Image(f'{results_folder}random_forest/{area_of_interest}/ia_random_forest_median_min_max_summer_{no_trees}tr_{vps}vps_{int(bf*100)}bf_{area_of_interest}_{year}')\n",
        "winter_clf = ee.Image(f'{results_folder}random_forest/{area_of_interest}/ia_random_forest_median_min_max_winter_{no_trees}tr_{vps}vps_{int(bf*100)}bf_{area_of_interest}_{year}')\n",
        "images_clf = {\n",
        "    'Summer RF Classification results': summer_clf.getMapId(visualization.vis_rf_classification()),\n",
        "    'Winter RF Classification results': winter_clf.getMapId(visualization.vis_rf_classification())\n",
        "}\n",
        "\n",
        "map = visualization.create_folium_map(images_clf, coords=[aoi_centroid[1], aoi_centroid[0]], zoom=10, height='100%')\n",
        "map = visualization.create_categorical_legend(map, visualization.vis_rf_classification()['palette'], training_classes)\n",
        "map"
      ],
      "execution_count": 13,
      "outputs": [
        {
          "output_type": "execute_result",
          "data": {
            "text/html": [
              "<div style=\"width:100%;\"><div style=\"position:relative;width:100%;height:0;padding-bottom:60%;\"><span style=\"color:#565656\">Make this Notebook Trusted to load map: File -> Trust Notebook</span><iframe src=\"about:blank\" style=\"position:absolute;width:100%;height:100%;left:0;top:0;border:none !important;\" data-html=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 onload=\"this.contentDocument.open();this.contentDocument.write(atob(this.getAttribute('data-html')));this.contentDocument.close();\" allowfullscreen webkitallowfullscreen mozallowfullscreen></iframe></div></div>"
            ],
            "text/plain": [
              "<branca.element.Figure at 0x7f2dfc2fac18>"
            ]
          },
          "metadata": {
            "tags": []
          },
          "execution_count": 13
        }
      ]
    },
    {
      "cell_type": "markdown",
      "metadata": {
        "id": "44S3AnNmKFmp",
        "colab_type": "text"
      },
      "source": [
        "Finally, the last step is to combine the classification results for the summer and the winter season into a single map by running the code block below."
      ]
    },
    {
      "cell_type": "code",
      "metadata": {
        "id": "YZD7MCKEFQqw",
        "colab_type": "code",
        "outputId": "530eff31-7be2-4238-f256-38b92648c030",
        "colab": {
          "base_uri": "https://localhost:8080/",
          "height": 53
        }
      },
      "source": [
        "ia_summer = summer_clf.select('irrigated_area')\n",
        "ia_winter = winter_clf.select('irrigated_area')\n",
        "task = join_seasonal_irrigated_areas(\n",
        "    ia_summer,\n",
        "    ia_winter,\n",
        "    area_of_interest,\n",
        "    year,\n",
        "    aoi_coordinates,\n",
        "    export_method='asset',\n",
        "  )\n",
        "track_task(task)"
      ],
      "execution_count": 14,
      "outputs": [
        {
          "output_type": "stream",
          "text": [
            "asset already exists\n"
          ],
          "name": "stdout"
        },
        {
          "output_type": "execute_result",
          "data": {
            "text/plain": [
              "True"
            ]
          },
          "metadata": {
            "tags": []
          },
          "execution_count": 14
        }
      ]
    },
    {
      "cell_type": "markdown",
      "metadata": {
        "id": "1hulSCB_KQfD",
        "colab_type": "text"
      },
      "source": [
        "# **Results**\n",
        "\n",
        "The irrigated areas from both classification maps have been combined, creating a final map depicting the irrigated areas over the whole year. The following classes are assigned, based on which period the area was classified as irrigated. \n",
        "\n",
        "*  Not Irrigated\n",
        "\n",
        "*  Year Round Irrigated Trees\n",
        "*  Year Round Irrigated Crops\n",
        "*  Summer Irrigated Trees\n",
        "*  Summer Irrigated Crops\n",
        "*  Winter Irrigated Trees\n",
        "*  Winter Irrigated Crops\n",
        "*  Uncertain Areas\n",
        "\n",
        "Let's run the code below and take a look at the final result! "
      ]
    },
    {
      "cell_type": "code",
      "metadata": {
        "id": "57nbUXQYp-FU",
        "colab_type": "code",
        "outputId": "14cc9204-6342-45e0-a52e-9c69d5380e0b",
        "colab": {
          "base_uri": "https://localhost:8080/",
          "height": 863
        }
      },
      "source": [
        "ia_classes = {\n",
        "        0: 'Not Irrigated',\n",
        "        1: 'Year Round Irrigated Trees',\n",
        "        2: 'Year Round Irrigated Crops',\n",
        "        3: 'Summer Irrigated Trees',\n",
        "        4: 'Summer Irrigated Crops',\n",
        "        5: 'Winter Irrigated Trees',\n",
        "        6: 'Winter Irrigated Crops',\n",
        "        7: 'Uncertain Areas',\n",
        "    }\n",
        "\n",
        "\n",
        "ia_year = ee.Image(f'{results_folder}irrigated_area/{area_of_interest}/irrigated_areas_{area_of_interest}_{year}').clip(aoi)\n",
        "\n",
        "images_results = {\n",
        "      'Irrigated Areas Overview': ia_year.getMapId(visualization.vis_irrigated_area_map()),\n",
        "  }\n",
        "map = visualization.create_folium_map(images_results, coords=[aoi_centroid[1], aoi_centroid[0]], zoom=10, height='100%')\n",
        "map = visualization.create_categorical_legend(map, visualization.vis_irrigated_area_map()['palette'], ia_classes)\n",
        "map"
      ],
      "execution_count": 15,
      "outputs": [
        {
          "output_type": "execute_result",
          "data": {
            "text/html": [
              "<div style=\"width:100%;\"><div style=\"position:relative;width:100%;height:0;padding-bottom:60%;\"><span style=\"color:#565656\">Make this Notebook Trusted to load map: File -> Trust Notebook</span><iframe src=\"about:blank\" style=\"position:absolute;width:100%;height:100%;left:0;top:0;border:none !important;\" data-html=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 onload=\"this.contentDocument.open();this.contentDocument.write(atob(this.getAttribute('data-html')));this.contentDocument.close();\" allowfullscreen webkitallowfullscreen mozallowfullscreen></iframe></div></div>"
            ],
            "text/plain": [
              "<branca.element.Figure at 0x7f2dfc8d3518>"
            ]
          },
          "metadata": {
            "tags": []
          },
          "execution_count": 15
        }
      ]
    },
    {
      "cell_type": "code",
      "metadata": {
        "id": "023cyLv-jaYB",
        "colab_type": "code",
        "cellView": "form",
        "outputId": "6c285998-bffe-4c15-c6e9-6073129b7805",
        "colab": {
          "base_uri": "https://localhost:8080/",
          "height": 181
        }
      },
      "source": [
        "#@title Export Results to Drive {run:\"auto\"}\n",
        "#@markdown If youd like to export the classification results to your Google drive account, please check the box below. \n",
        "\n",
        "export_results_to_drive = True #@param {type:\"boolean\"}\n",
        "\n",
        "\n",
        "images_to_export = {\n",
        "                    'summer_classification': summer_clf,\n",
        "                    'winter_classification': winter_clf,\n",
        "                    'irrigated_areas': ia_year,\n",
        "                    }\n",
        "                  \n",
        "if export_results_to_drive:\n",
        "  for img in images_to_export:\n",
        "    export_task = export_to_drive(images_to_export[img], 'image', img, aoi_coordinates, 'ia_classification' )\n",
        "  track_task(export_task)\n",
        " \n"
      ],
      "execution_count": 0,
      "outputs": [
        {
          "output_type": "stream",
          "text": [
            "Export started for summer_classification\n",
            "Export started for winter_classification\n",
            "Export started for irrigated_areas\n",
            "Running Task (0 min)\n",
            "Running Task (1 min)\n",
            "Running Task (2 min)\n",
            "Running Task (3 min)\n",
            "Running Task (4 min)\n",
            "Task Completed, runtime: 5 minutes\n"
          ],
          "name": "stdout"
        }
      ]
    }
  ]
}